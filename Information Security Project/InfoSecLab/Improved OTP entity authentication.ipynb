{
 "cells": [
  {
   "cell_type": "code",
   "execution_count": 35,
   "metadata": {
    "collapsed": true
   },
   "outputs": [],
   "source": [
    "import random, numpy as np, scipy, math, sys, hashlib"
   ]
  },
  {
   "cell_type": "code",
   "execution_count": 36,
   "metadata": {
    "collapsed": true
   },
   "outputs": [],
   "source": [
    "def ow_hash(password):\n",
    "    h = str(int(hashlib.sha256(str(password).encode('utf-8')).hexdigest(), 16) % 10**20)\n",
    "    while (len(h)<L_MAX):\n",
    "        h = '0' + h #leftside padding should maintain uniformity\n",
    "    return h"
   ]
  },
  {
   "cell_type": "markdown",
   "metadata": {},
   "source": [
    "#### Only the last line of code changes in the class Client."
   ]
  },
  {
   "cell_type": "code",
   "execution_count": 37,
   "metadata": {
    "collapsed": true
   },
   "outputs": [],
   "source": [
    "class Client:\n",
    "    def __init__(self,identity):\n",
    "        self.ID = identity\n",
    "        self.x = [] #will store the hashes\n",
    "    def initiate_setup(self,server):\n",
    "        p_A = input('Please enter a natural number of at most ' + str(L_MAX) + ' digits :')\n",
    "\n",
    "        while((not isinstance(p_A, int) and  not isinstance(p_A, long)) or p_A >= 10**(L_MAX) or p_A < 0):\n",
    "            p_A = input('Please enter a natural number of at most ' + str(L_MAX) + ' digits :')\n",
    "\n",
    "        print('Input password :')\n",
    "        print(p_A)\n",
    "        #----------------------------------padding the password with zeros\n",
    "        while (p_A < 10**(L_MAX-1) and p_A > 0):\n",
    "            p_A = 10* p_A\n",
    "        if (p_A == 0): p_A = '0'*(L_MAX) \n",
    "        p_A = str(p_A)\n",
    "        print('Padded password :')\n",
    "        print(p_A)\n",
    "        #---------------------------hashing the padded password N times (and storing all values for simplicity)\n",
    "        self.x = [] #reset the hashes\n",
    "        self.x.append(ow_hash(p_A))\n",
    "        for i in range(N-1):\n",
    "            self.x.append(ow_hash(self.x[i]))\n",
    "        server.setup(self.x[N-1],self.ID)\n",
    "    \n",
    "    def  request_challenge(self,server, identity):\n",
    "            self.n, self.r_n = server.provide_challenge(identity) #send its identity and receive the challenge\n",
    "    def  answer_challenge(self,server):   \n",
    "            if (self.n > 0): #no errors occured\n",
    "                server.verify(self.x[N-1-self.n], self.r_n) #sends back the hash corresponding to n and the received r_n"
   ]
  },
  {
   "cell_type": "markdown",
   "metadata": {},
   "source": [
    "#### In the class server only the necessary number of cycles in the verify method changes."
   ]
  },
  {
   "cell_type": "code",
   "execution_count": 38,
   "metadata": {
    "collapsed": true
   },
   "outputs": [],
   "source": [
    "class Server:\n",
    "    def __init__(self):\n",
    "        self.n =0 #will count the number of attempted authentications\n",
    "        self.ID_reg = -1\n",
    "    \n",
    "    def setup(self,N_fold_hash,identity):\n",
    "        if (self.ID_reg == -1 or self.ID_reg == identity):\n",
    "            self.ID_reg = identity\n",
    "            self.x_N = N_fold_hash\n",
    "            self.c=0 # a new OTP entity auth. has started so n=0\n",
    "            print 'N-Fold hashed password:', self.x_N , 'has been associated to identity:', self.ID_reg, '.'\n",
    "        else :\n",
    "            print('Setup faillure.')\n",
    "    \n",
    "    def provide_challenge(self, identity):\n",
    "        print('Identity authentication request received.')\n",
    "        if (self.ID_reg == identity and self.n < N):\n",
    "            self.n = self.n + 1\n",
    "            self.r_n = random.randrange(0,R)\n",
    "            print('The challenge is [n, r_n] = [' + str(self.n) + ' , ' + str(self.r_n) + ']')\n",
    "            return self.n , self.r_n\n",
    "        else :\n",
    "            if not self.ID_reg == identity : print('Identity not recognized')\n",
    "            else : \n",
    "                if  not self.n < N : print('Max number of authentications reached for this password, please reinitiate setup.')\n",
    "            return -1 , -1\n",
    "    def verify(self,x,r):\n",
    "        if(r == self.r_n):\n",
    "            for i in range(self.n):\n",
    "                x=ow_hash(x)\n",
    "            if (x == self.x_N): print('Successful authentication as ' + str(self.ID_reg))\n",
    "            else : print('Unsuccessful authentication.')\n",
    "        else : print('Unsuccessful authentication.')"
   ]
  },
  {
   "cell_type": "markdown",
   "metadata": {},
   "source": [
    "### Simulation of the protocol"
   ]
  },
  {
   "cell_type": "code",
   "execution_count": 39,
   "metadata": {
    "collapsed": false
   },
   "outputs": [
    {
     "name": "stdout",
     "output_type": "stream",
     "text": [
      "Please enter a natural number of at most 20 digits :7\n",
      "Input password :\n",
      "7\n",
      "Padded password :\n",
      "70000000000000000000\n",
      "N-Fold hashed password: 80999044949861642558 has been associated to identity: Pippo .\n",
      "Identity authentication request received.\n",
      "The challenge is [n, r_n] = [1 , 36749646599690202028284055258287136636726747769903053744162256369108287797988]\n",
      "Successful authentication as Pippo\n",
      "Identity authentication request received.\n",
      "The challenge is [n, r_n] = [2 , 115557243371313536887934046761567590436552261865866163509464589518890707575025]\n",
      "Successful authentication as Pippo\n",
      "Identity authentication request received.\n",
      "The challenge is [n, r_n] = [3 , 22476425828625871576657154553444558718085992978505789733920075453197945679081]\n",
      "Successful authentication as Pippo\n",
      "Identity authentication request received.\n",
      "The challenge is [n, r_n] = [4 , 114351487120056181233199730225514563035498831006213514830182607897333786431401]\n",
      "Successful authentication as Pippo\n",
      "Identity authentication request received.\n",
      "The challenge is [n, r_n] = [5 , 77339309347305163223844825331277766244314832334963982827877968523505490628442]\n",
      "Successful authentication as Pippo\n",
      "Identity authentication request received.\n",
      "The challenge is [n, r_n] = [6 , 25696717183750076253298186271243718478744299682507753896723425584647820225038]\n",
      "Successful authentication as Pippo\n",
      "Identity authentication request received.\n",
      "The challenge is [n, r_n] = [7 , 2569082878648208638342087860128534429374675949463814222331686778147256271707]\n",
      "Successful authentication as Pippo\n",
      "Identity authentication request received.\n",
      "The challenge is [n, r_n] = [8 , 84874020823820181700099448294241756476242356185766344676910004066675333104491]\n",
      "Successful authentication as Pippo\n",
      "Identity authentication request received.\n",
      "The challenge is [n, r_n] = [9 , 70997350908035708156944149395245087025267272371237078259365787627275290241921]\n",
      "Successful authentication as Pippo\n",
      "Identity authentication request received.\n",
      "The challenge is [n, r_n] = [10 , 76726892050911342856918096164801310621918257017994143229186177289246750673019]\n",
      "Successful authentication as Pippo\n",
      "Identity authentication request received.\n",
      "The challenge is [n, r_n] = [11 , 58689430886164864360658394687590816123758847172883031148012373827242512203797]\n",
      "Successful authentication as Pippo\n"
     ]
    }
   ],
   "source": [
    "#-----------------------------------------setting parameters\n",
    "L_MAX = 20 # 20 digits are nearly equal to 64 bit\n",
    "N= 1000 # not too large for n-fold hash computation time, but enough for a good number of runs before resetting the password\n",
    "R= 2**256 #maximum range from which the challenge random nonce is extracted\n",
    "#-----------------------------------------initialisation\n",
    "A = Client('Pippo')\n",
    "B = Server()\n",
    "#-----------------------------------------simulation\n",
    "A.initiate_setup(B)\n",
    "for i in range(11):\n",
    "    A.request_challenge(B,A.ID)\n",
    "    A.answer_challenge(B)"
   ]
  },
  {
   "cell_type": "code",
   "execution_count": null,
   "metadata": {
    "collapsed": false
   },
   "outputs": [],
   "source": []
  },
  {
   "cell_type": "code",
   "execution_count": null,
   "metadata": {
    "collapsed": true
   },
   "outputs": [],
   "source": []
  },
  {
   "cell_type": "code",
   "execution_count": null,
   "metadata": {
    "collapsed": true
   },
   "outputs": [],
   "source": []
  },
  {
   "cell_type": "code",
   "execution_count": null,
   "metadata": {
    "collapsed": true
   },
   "outputs": [],
   "source": []
  }
 ],
 "metadata": {
  "anaconda-cloud": {},
  "kernelspec": {
   "display_name": "Python [default]",
   "language": "python",
   "name": "python2"
  },
  "language_info": {
   "codemirror_mode": {
    "name": "ipython",
    "version": 2
   },
   "file_extension": ".py",
   "mimetype": "text/x-python",
   "name": "python",
   "nbconvert_exporter": "python",
   "pygments_lexer": "ipython2",
   "version": "2.7.12"
  }
 },
 "nbformat": 4,
 "nbformat_minor": 1
}
