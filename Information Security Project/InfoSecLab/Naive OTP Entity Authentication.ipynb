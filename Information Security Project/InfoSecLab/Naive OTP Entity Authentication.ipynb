{
 "cells": [
  {
   "cell_type": "code",
   "execution_count": 1,
   "metadata": {
    "collapsed": true
   },
   "outputs": [],
   "source": [
    "import random, numpy as np, scipy, math, sys, hashlib"
   ]
  },
  {
   "cell_type": "code",
   "execution_count": 7,
   "metadata": {
    "collapsed": false
   },
   "outputs": [],
   "source": [
    "def ow_hash(password):\n",
    "    h = str(int(hashlib.sha256(str(password).encode('utf-8')).hexdigest(), 16) % 10**20)\n",
    "    while (len(h)<L_MAX):\n",
    "        h = '0' + h #leftside padding should maintain uniformity\n",
    "    return h"
   ]
  },
  {
   "cell_type": "code",
   "execution_count": 20,
   "metadata": {
    "collapsed": false
   },
   "outputs": [],
   "source": [
    "class Client:\n",
    "    def __init__(self,identity):\n",
    "        self.ID = identity\n",
    "        self.x = [] #will store the hashes\n",
    "    def initiate_setup(self,server):\n",
    "        p_A = input('Please enter a natural number of at most ' + str(L_MAX) + ' digits :')\n",
    "\n",
    "        while((not isinstance(p_A, int) and  not isinstance(p_A, long)) or p_A >= 10**(L_MAX) or p_A < 0):\n",
    "            p_A = input('Please enter a natural number of at most ' + str(L_MAX) + ' digits :')\n",
    "\n",
    "        print('Input password :')\n",
    "        print(p_A)\n",
    "        #----------------------------------padding the password with zeros\n",
    "        while (p_A < 10**(L_MAX-1) and p_A > 0):\n",
    "            p_A = 10* p_A\n",
    "        if (p_A == 0): p_A = '0'*(L_MAX) \n",
    "        p_A = str(p_A)\n",
    "        print('Padded password :')\n",
    "        print(p_A)\n",
    "        #---------------------------hashing the padded password N times (and storing all values for simplicity)\n",
    "        self.x = [] #reset the hashes\n",
    "        self.x.append(ow_hash(p_A))\n",
    "        for i in range(N-1):\n",
    "            self.x.append(ow_hash(self.x[i]))\n",
    "        server.setup(self.x[N-1],self.ID)\n",
    "    \n",
    "    def  request_challenge(self,server, identity):\n",
    "            self.n, self.r_n = server.provide_challenge(identity) #send its identity and receive the challenge\n",
    "    def  answer_challenge(self,server):   \n",
    "            if (self.n > 0): #no errors occured\n",
    "                server.verify(self.x[self.n-1], self.r_n) #sends back the hash corresponding to n and the received r_n"
   ]
  },
  {
   "cell_type": "code",
   "execution_count": 19,
   "metadata": {
    "collapsed": false
   },
   "outputs": [],
   "source": [
    "class Server:\n",
    "    def __init__(self):\n",
    "        self.n =0 #will count the number of attempted authentications\n",
    "        self.ID_reg = -1\n",
    "    \n",
    "    def setup(self,N_fold_hash,identity):\n",
    "        if (self.ID_reg == -1 or self.ID_reg == identity):\n",
    "            self.ID_reg = identity\n",
    "            self.x_N = N_fold_hash\n",
    "            self.c=0 # a new OTP entity auth. has started so n=0\n",
    "            print 'N-Fold hashed password:', self.x_N , 'has been associated to identity:', self.ID_reg, '.'\n",
    "        else :\n",
    "            print('Setup faillure.')\n",
    "    \n",
    "    def provide_challenge(self, identity):\n",
    "        print('Identity authentication request received.')\n",
    "        if (self.ID_reg == identity and self.n < N):\n",
    "            self.n = self.n + 1\n",
    "            self.r_n = random.randrange(0,R)\n",
    "            print('The challenge is [n, r_n] = [' + str(self.n) + ' , ' + str(self.r_n) + ']')\n",
    "            return self.n , self.r_n\n",
    "        else :\n",
    "            if not self.ID_reg == identity : print('Identity not recognized')\n",
    "            else : \n",
    "                if  not self.n < N : print('Max number of authentications reached for this password, please reinitiate setup.')\n",
    "            return -1 , -1\n",
    "    def verify(self,x,r):\n",
    "        if(r == self.r_n):\n",
    "            for i in range(N-self.n):\n",
    "                x=ow_hash(x)\n",
    "            if (x == self.x_N): print('Successful authentication as ' + str(self.ID_reg))\n",
    "            else : print('Unsuccessful authentication.')\n",
    "        else : print('Unsuccessful authentication.')"
   ]
  },
  {
   "cell_type": "markdown",
   "metadata": {},
   "source": [
    "### Simulation of the protocol"
   ]
  },
  {
   "cell_type": "code",
   "execution_count": 22,
   "metadata": {
    "collapsed": false
   },
   "outputs": [
    {
     "name": "stdout",
     "output_type": "stream",
     "text": [
      "Please enter a natural number of at most 20 digits :8\n",
      "Input password :\n",
      "8\n",
      "Padded password :\n",
      "80000000000000000000\n",
      "N-Fold hashed password: 38192588098386922697 has been associated to identity: Pippo .\n",
      "Identity authentication request received.\n",
      "The challenge is [n, r_n] = [1 , 40493724936257045386188540753873357294896524926758451332098143777541239573374]\n",
      "Successful authentication as Pippo\n",
      "Identity authentication request received.\n",
      "The challenge is [n, r_n] = [2 , 8512239393534683929340699656204401705429816187946928109188832289629566345642]\n",
      "Successful authentication as Pippo\n",
      "Identity authentication request received.\n",
      "The challenge is [n, r_n] = [3 , 67271591866723580452165024353165136409268455666494963610685978989283405239378]\n",
      "Successful authentication as Pippo\n",
      "Identity authentication request received.\n",
      "The challenge is [n, r_n] = [4 , 28377910961560280573728759750521232741260537641953545710282537391516944989112]\n",
      "Successful authentication as Pippo\n",
      "Identity authentication request received.\n",
      "The challenge is [n, r_n] = [5 , 48040733859071564686544606064874690700171733776456977759532726052183070964860]\n",
      "Successful authentication as Pippo\n",
      "Identity authentication request received.\n",
      "The challenge is [n, r_n] = [6 , 24360503381170567131208015883017086988216341407239909182981627059123920207467]\n",
      "Successful authentication as Pippo\n",
      "Identity authentication request received.\n",
      "The challenge is [n, r_n] = [7 , 29994640903515639080895084779456983253479390489911063808532308123196037758168]\n",
      "Successful authentication as Pippo\n",
      "Identity authentication request received.\n",
      "The challenge is [n, r_n] = [8 , 38591633341863634079341940076252293051331429880794928632133843166712052435993]\n",
      "Successful authentication as Pippo\n",
      "Identity authentication request received.\n",
      "The challenge is [n, r_n] = [9 , 105911935868788832790979570632445616552163849133971578177838933294494149847171]\n",
      "Successful authentication as Pippo\n",
      "Identity authentication request received.\n",
      "The challenge is [n, r_n] = [10 , 85108131592905263732382013741931622312584730530603851808994312300937824960218]\n",
      "Successful authentication as Pippo\n",
      "Identity authentication request received.\n",
      "The challenge is [n, r_n] = [11 , 113455851252849610811577239958894860078902907094798696583466376607472350240088]\n",
      "Successful authentication as Pippo\n"
     ]
    }
   ],
   "source": [
    "#-----------------------------------------setting parameters\n",
    "L_MAX = 20 # 20 digits are nearly equal to 64 bit\n",
    "N = 1000 # not too large for n-fold hash computation time, but enough for a good number of runs before resetting the password\n",
    "R= 2**256\n",
    "#-----------------------------------------initialisation\n",
    "A = Client('Pippo')\n",
    "B = Server()\n",
    "#-----------------------------------------simulation\n",
    "A.initiate_setup(B)\n",
    "for i in range(11):\n",
    "    A.request_challenge(B,A.ID)\n",
    "    A.answer_challenge(B)\n",
    "    "
   ]
  },
  {
   "cell_type": "markdown",
   "metadata": {},
   "source": [
    "### Simulation of the eavesdropping attack"
   ]
  },
  {
   "cell_type": "code",
   "execution_count": 24,
   "metadata": {
    "collapsed": false
   },
   "outputs": [
    {
     "name": "stdout",
     "output_type": "stream",
     "text": [
      "j-th run of the protocol successfully eaveasdropped\n",
      "Identity authentication request received.\n",
      "The challenge is [n, r_n] = [13 , 102411574815736799185174221221519974257903732926423352647101433511686987267732]\n",
      "[-1, -1, -1, -1, -1, -1, -1, '82839006805098179178', '14917962421211814424', '95261111916869988568', '07169147961893825686', '25278718152703243491', '84228563799723548922']\n",
      "Successful authentication as Pippo\n",
      "Please enter a natural number of at most 20 digits :8\n",
      "Input password :\n",
      "8\n",
      "Padded password :\n",
      "80000000000000000000\n",
      "Setup faillure.\n"
     ]
    }
   ],
   "source": [
    "E = Client('Topolino')\n",
    "j=random.randrange(0,A.n)\n",
    "print('j-th run of the protocol successfully eaveasdropped')\n",
    "for i in range(j):\n",
    "    E.x.append(-1)\n",
    "E.x.append(A.x[j])\n",
    "E.request_challenge(B,A.ID)\n",
    "for i in range(E.n-(j+1)):\n",
    "           E.x.append(ow_hash(E.x[j+i]))\n",
    "print E.x\n",
    "E.answer_challenge(B)\n",
    "E.initiate_setup(B)"
   ]
  },
  {
   "cell_type": "code",
   "execution_count": null,
   "metadata": {
    "collapsed": false
   },
   "outputs": [],
   "source": []
  }
 ],
 "metadata": {
  "anaconda-cloud": {},
  "kernelspec": {
   "display_name": "Python [default]",
   "language": "python",
   "name": "python2"
  },
  "language_info": {
   "codemirror_mode": {
    "name": "ipython",
    "version": 2
   },
   "file_extension": ".py",
   "mimetype": "text/x-python",
   "name": "python",
   "nbconvert_exporter": "python",
   "pygments_lexer": "ipython2",
   "version": "2.7.12"
  }
 },
 "nbformat": 4,
 "nbformat_minor": 1
}
