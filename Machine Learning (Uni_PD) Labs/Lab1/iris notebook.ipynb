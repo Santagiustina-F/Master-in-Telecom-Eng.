{
 "cells": [
  {
   "cell_type": "markdown",
   "metadata": {},
   "source": [
    "# # Classification on Iris Dataset\n",
    "\n",
    "### Dataset description\n",
    "\n",
    "We will be working with the famous “Iris” dataset that has been deposited on the UCI machine learning repository (https://archive.ics.uci.edu/ml/datasets/Iris).\n",
    "The iris dataset contains measurements for 150 iris flowers from three different species.\n",
    "\n",
    "The three classes in the Iris dataset:\n",
    "\n",
    "- Iris-setosa (n=50)\n",
    "\n",
    "- Iris-versicolor (n=50)\n",
    "\n",
    "- Iris-virginica (n=50)\n",
    "\n",
    "\n",
    "\n",
    "### Four features (regressors) are considered for the Iris dataset:\n",
    "\n",
    "\n",
    "\n",
    "1) sepal length in cm\n",
    "\n",
    "2) sepal width in cm\n",
    "\n",
    "3) petal length in cm\n",
    "\n",
    "4) petal width in cm\n",
    "\n",
    "\n"
   ]
  },
  {
   "cell_type": "code",
   "execution_count": 166,
   "metadata": {
    "collapsed": false
   },
   "outputs": [
    {
     "name": "stdout",
     "output_type": "stream",
     "text": [
      "\n"
     ]
    }
   ],
   "source": [
    "%matplotlib inline\n",
    "import matplotlib.pyplot as plt"
   ]
  },
  {
   "cell_type": "markdown",
   "metadata": {},
   "source": [
    "Load the data from a .csv file"
   ]
  },
  {
   "cell_type": "code",
   "execution_count": 167,
   "metadata": {
    "collapsed": false
   },
   "outputs": [
    {
     "data": {
      "text/html": [
       "<div>\n",
       "<table border=\"1\" class=\"dataframe\">\n",
       "  <thead>\n",
       "    <tr style=\"text-align: right;\">\n",
       "      <th></th>\n",
       "      <th>5.1</th>\n",
       "      <th>3.5</th>\n",
       "      <th>1.4</th>\n",
       "      <th>0.2</th>\n",
       "    </tr>\n",
       "  </thead>\n",
       "  <tbody>\n",
       "    <tr>\n",
       "      <th>count</th>\n",
       "      <td>149.000000</td>\n",
       "      <td>149.000000</td>\n",
       "      <td>149.000000</td>\n",
       "      <td>149.000000</td>\n",
       "    </tr>\n",
       "    <tr>\n",
       "      <th>mean</th>\n",
       "      <td>5.848322</td>\n",
       "      <td>3.051007</td>\n",
       "      <td>3.774497</td>\n",
       "      <td>1.205369</td>\n",
       "    </tr>\n",
       "    <tr>\n",
       "      <th>std</th>\n",
       "      <td>0.828594</td>\n",
       "      <td>0.433499</td>\n",
       "      <td>1.759651</td>\n",
       "      <td>0.761292</td>\n",
       "    </tr>\n",
       "    <tr>\n",
       "      <th>min</th>\n",
       "      <td>4.300000</td>\n",
       "      <td>2.000000</td>\n",
       "      <td>1.000000</td>\n",
       "      <td>0.100000</td>\n",
       "    </tr>\n",
       "    <tr>\n",
       "      <th>25%</th>\n",
       "      <td>5.100000</td>\n",
       "      <td>2.800000</td>\n",
       "      <td>1.600000</td>\n",
       "      <td>0.300000</td>\n",
       "    </tr>\n",
       "    <tr>\n",
       "      <th>50%</th>\n",
       "      <td>5.800000</td>\n",
       "      <td>3.000000</td>\n",
       "      <td>4.400000</td>\n",
       "      <td>1.300000</td>\n",
       "    </tr>\n",
       "    <tr>\n",
       "      <th>75%</th>\n",
       "      <td>6.400000</td>\n",
       "      <td>3.300000</td>\n",
       "      <td>5.100000</td>\n",
       "      <td>1.800000</td>\n",
       "    </tr>\n",
       "    <tr>\n",
       "      <th>max</th>\n",
       "      <td>7.900000</td>\n",
       "      <td>4.400000</td>\n",
       "      <td>6.900000</td>\n",
       "      <td>2.500000</td>\n",
       "    </tr>\n",
       "  </tbody>\n",
       "</table>\n",
       "</div>"
      ],
      "text/plain": [
       "              5.1         3.5         1.4         0.2\n",
       "count  149.000000  149.000000  149.000000  149.000000\n",
       "mean     5.848322    3.051007    3.774497    1.205369\n",
       "std      0.828594    0.433499    1.759651    0.761292\n",
       "min      4.300000    2.000000    1.000000    0.100000\n",
       "25%      5.100000    2.800000    1.600000    0.300000\n",
       "50%      5.800000    3.000000    4.400000    1.300000\n",
       "75%      6.400000    3.300000    5.100000    1.800000\n",
       "max      7.900000    4.400000    6.900000    2.500000"
      ]
     },
     "execution_count": 167,
     "metadata": {},
     "output_type": "execute_result"
    }
   ],
   "source": [
    "from __future__ import division\n",
    "import pandas as pd\n",
    "import numpy as np\n",
    "\n",
    "df = pd.read_csv('irisData.csv', sep = ',')\n",
    "df.describe()"
   ]
  },
  {
   "cell_type": "markdown",
   "metadata": {},
   "source": [
    "Save the features and class names for future use"
   ]
  },
  {
   "cell_type": "code",
   "execution_count": 168,
   "metadata": {
    "collapsed": true
   },
   "outputs": [],
   "source": [
    "features_list = ['sepal length', 'sepal width', 'petal length', 'petal width']\n",
    "labels_list = ['Iris-setosa', 'Iris-versicolor', 'Iris-virginica']\n"
   ]
  },
  {
   "cell_type": "markdown",
   "metadata": {
    "collapsed": true
   },
   "source": [
    "Create data matrices"
   ]
  },
  {
   "cell_type": "code",
   "execution_count": 169,
   "metadata": {
    "collapsed": true
   },
   "outputs": [],
   "source": [
    "Data = df.values\n",
    "X = Data[:-1,:-1]\n",
    "Y = Data[:-1,-1]\n",
    "n = X.shape[1]  # number of features"
   ]
  },
  {
   "cell_type": "markdown",
   "metadata": {},
   "source": [
    "## Data Preprocessing\n",
    "\n",
    "Change the class labels from strings to integers"
   ]
  },
  {
   "cell_type": "code",
   "execution_count": 170,
   "metadata": {
    "collapsed": true
   },
   "outputs": [],
   "source": [
    "# Rename the class labels\n",
    "from sklearn.preprocessing import LabelEncoder\n",
    "label_encoder = LabelEncoder()\n",
    "Y = label_encoder.fit_transform(Y)\n",
    "K = max(Y) + 1 # number of classes"
   ]
  },
  {
   "cell_type": "markdown",
   "metadata": {},
   "source": [
    "Given $N$ total data points, keep $N_t$ data points as training data and $N_{val}:=N-N_t$ as validation data. Splitting is random, use as seed your ``numero di matricola'' (see below)\n"
   ]
  },
  {
   "cell_type": "code",
   "execution_count": 171,
   "metadata": {
    "collapsed": false
   },
   "outputs": [],
   "source": [
    "# Split data into training and validation data\n",
    "from sklearn.cross_validation import train_test_split\n",
    "N = np.shape(X)[1]\n",
    "Numero_di_Matricola = 1067494 #put here your ``numero di matricola''\n",
    "Nt = int(0.50*N)  # use 50% data for training and 50% for validation\n",
    "\n",
    "Xtr, Xva, Ytr, Yva = train_test_split(X, Y, test_size=Nt/N,random_state = Numero_di_Matricola)\n",
    "\n",
    "Ntr = Xtr.shape[0]\n",
    "Nva = Xva.shape[0]"
   ]
  },
  {
   "cell_type": "markdown",
   "metadata": {},
   "source": [
    "Design matrix is standardized to have zero-mean and unit variance (columnwise) [WHY?]\n"
   ]
  },
  {
   "cell_type": "code",
   "execution_count": 172,
   "metadata": {
    "collapsed": false
   },
   "outputs": [
    {
     "name": "stderr",
     "output_type": "stream",
     "text": [
      "C:\\Program Files\\Anaconda2\\lib\\site-packages\\sklearn\\utils\\validation.py:420: DataConversionWarning: Data with input dtype object was converted to float64 by StandardScaler.\n",
      "  warnings.warn(msg, DataConversionWarning)\n",
      "C:\\Program Files\\Anaconda2\\lib\\site-packages\\sklearn\\utils\\validation.py:420: DataConversionWarning: Data with input dtype object was converted to float64 by StandardScaler.\n",
      "  warnings.warn(msg, DataConversionWarning)\n",
      "C:\\Program Files\\Anaconda2\\lib\\site-packages\\sklearn\\utils\\validation.py:420: DataConversionWarning: Data with input dtype object was converted to float64 by StandardScaler.\n",
      "  warnings.warn(msg, DataConversionWarning)\n"
     ]
    }
   ],
   "source": [
    "# Standardize the Features Matrix\n",
    "from sklearn import preprocessing\n",
    "scaler = preprocessing.StandardScaler().fit(X)\n",
    "Xtr = scaler.transform(Xtr)\n",
    "Xva = scaler.transform(Xva)  # use the same transformation on validation data"
   ]
  },
  {
   "cell_type": "markdown",
   "metadata": {},
   "source": [
    "## Linear Classification\n",
    "\n",
    "Convert the label vector Y into an indicator matrix (i.e. to a collection of one-hot vectors). \n",
    "$$Y_{oh} \\in\\mathbb{R}^{N_t\\times K},\\qquad [Y_{oh}]_{ij} = \\left\\{\\begin{array}{ll}1 & \\mbox{if  } Y_i=j\\\\ 0 & \\mbox{ otherwise}\\end{array} \\right.$$\n",
    "$K$ denotes the number of classes.\n",
    "\n",
    "You can use the class OneHotEncoder from Scikit-Learn."
   ]
  },
  {
   "cell_type": "code",
   "execution_count": 173,
   "metadata": {
    "collapsed": false
   },
   "outputs": [],
   "source": [
    "from sklearn.preprocessing import OneHotEncoder\n",
    "onehot_encoder = OneHotEncoder()\n",
    "Ytr_oh = onehot_encoder.fit_transform(Ytr.reshape(-1,1)).toarray()\n",
    "Yva_oh = onehot_encoder.fit_transform(Yva.reshape(-1,1)).toarray()"
   ]
  },
  {
   "cell_type": "markdown",
   "metadata": {},
   "source": [
    "## TO DO 1\n",
    "### Perform Linear Regression on the Indicator matrix\n",
    "\n",
    "You can use the linear_model class from package sklearn\n",
    "\n",
    "-  the regression model should be assinged to the variable reg\n",
    "\n",
    "- you can use the function fit (reg.fit) for fitting the linear regression"
   ]
  },
  {
   "cell_type": "code",
   "execution_count": 176,
   "metadata": {
    "collapsed": false
   },
   "outputs": [
    {
     "data": {
      "text/plain": [
       "LinearRegression(copy_X=True, fit_intercept=True, n_jobs=1, normalize=False)"
      ]
     },
     "execution_count": 176,
     "metadata": {},
     "output_type": "execute_result"
    },
    {
     "name": "stdout",
     "output_type": "stream",
     "text": [
      "\n"
     ]
    }
   ],
   "source": [
    "# Perform Linear Regression on an Indicator Matrix\n",
    "from sklearn import linear_model\n",
    "reg =  linear_model.LinearRegression() # define a linear model \n",
    "\n",
    "reg.fit(Xtr, Ytr)  # then you have to fit the model using training data "
   ]
  },
  {
   "cell_type": "markdown",
   "metadata": {},
   "source": [
    "## TO DO 2\n",
    "\n",
    "### Data Prediction\n",
    "\n",
    " - Compute the predicted labels on training and validation data using reg.predict\n",
    " - Evaluate the accuracy using metrics.accuracy_score from scikit-learn (it returns the percentage of data correctly classified)."
   ]
  },
  {
   "cell_type": "code",
   "execution_count": 191,
   "metadata": {
    "collapsed": false
   },
   "outputs": [
    {
     "name": "stdout",
     "output_type": "stream",
     "text": [
      "Training Accuracy: 0.675675675676\n",
      "Validation Accuracy: 0.743243243243\n"
     ]
    }
   ],
   "source": [
    "Yhat_tr_LS = reg.predict(Xtr) # preciction on training data\n",
    "Yhat_va_LS = reg.predict(Xva)  # preciction on validation data\n",
    "\n",
    "\n",
    "Yhat_tr_LS_oh = onehot_encoder.fit_transform(Yhat_tr_LS.reshape(-1,1)).toarray()\n",
    "Yhat_va_LS_oh = onehot_encoder.fit_transform(Yhat_va_LS.reshape(-1,1)).toarray()\n",
    "\n",
    "\n",
    "\n",
    "from sklearn import metrics\n",
    "print \"Training Accuracy:\", metrics.accuracy_score(Ytr_oh,Yhat_tr_LS_oh )   # compute accuracy as suggested above using metrics.accuracy_score from scikit-learn \n",
    "print \"Validation Accuracy:\", metrics.accuracy_score(Yva_oh,Yhat_va_LS_oh ) # compute accuracy as suggested above using metrics.accuracy_score from scikit-learn "
   ]
  },
  {
   "cell_type": "markdown",
   "metadata": {},
   "source": [
    "## TO DO 3\n",
    "\n",
    "### Repeat the same using only two features (so that we can plot)\n",
    "\n",
    "- features is the index vector of selected features (colums of X)\n",
    "- Xtr_red will be  the reduced design matrix (training) \n",
    "- Xva_red will be the reduced design matrix (validation) \n",
    "\n",
    "\n"
   ]
  },
  {
   "cell_type": "code",
   "execution_count": 192,
   "metadata": {
    "collapsed": false
   },
   "outputs": [
    {
     "name": "stdout",
     "output_type": "stream",
     "text": [
      "[[ 1.  0.  0.]\n",
      " [ 0.  0.  1.]\n",
      " [ 0.  1.  0.]\n",
      " [ 1.  0.  0.]\n",
      " [ 0.  0.  1.]\n",
      " [ 0.  1.  0.]\n",
      " [ 0.  0.  1.]\n",
      " [ 1.  0.  0.]\n",
      " [ 0.  0.  1.]\n",
      " [ 0.  0.  1.]\n",
      " [ 0.  0.  1.]\n",
      " [ 1.  0.  0.]\n",
      " [ 0.  0.  1.]\n",
      " [ 1.  0.  0.]\n",
      " [ 0.  1.  0.]\n",
      " [ 0.  1.  0.]\n",
      " [ 0.  1.  0.]\n",
      " [ 0.  1.  0.]\n",
      " [ 0.  0.  1.]\n",
      " [ 0.  1.  0.]\n",
      " [ 1.  0.  0.]\n",
      " [ 0.  0.  1.]\n",
      " [ 1.  0.  0.]\n",
      " [ 0.  1.  0.]\n",
      " [ 1.  0.  0.]\n",
      " [ 0.  1.  0.]\n",
      " [ 0.  1.  0.]\n",
      " [ 0.  0.  1.]\n",
      " [ 0.  0.  1.]\n",
      " [ 0.  1.  0.]\n",
      " [ 0.  1.  0.]\n",
      " [ 0.  1.  0.]\n",
      " [ 1.  0.  0.]\n",
      " [ 1.  0.  0.]\n",
      " [ 1.  0.  0.]\n",
      " [ 0.  0.  1.]\n",
      " [ 0.  0.  1.]\n",
      " [ 1.  0.  0.]\n",
      " [ 0.  0.  1.]\n",
      " [ 1.  0.  0.]\n",
      " [ 1.  0.  0.]\n",
      " [ 0.  0.  1.]\n",
      " [ 0.  0.  1.]\n",
      " [ 0.  0.  1.]\n",
      " [ 0.  1.  0.]\n",
      " [ 0.  1.  0.]\n",
      " [ 0.  1.  0.]\n",
      " [ 0.  1.  0.]\n",
      " [ 0.  0.  1.]\n",
      " [ 1.  0.  0.]\n",
      " [ 0.  1.  0.]\n",
      " [ 0.  1.  0.]\n",
      " [ 1.  0.  0.]\n",
      " [ 0.  0.  1.]\n",
      " [ 0.  0.  1.]\n",
      " [ 0.  0.  1.]\n",
      " [ 0.  1.  0.]\n",
      " [ 0.  1.  0.]\n",
      " [ 1.  0.  0.]\n",
      " [ 1.  0.  0.]\n",
      " [ 0.  1.  0.]\n",
      " [ 0.  1.  0.]\n",
      " [ 1.  0.  0.]\n",
      " [ 0.  0.  1.]\n",
      " [ 0.  0.  1.]\n",
      " [ 0.  1.  0.]\n",
      " [ 0.  1.  0.]\n",
      " [ 0.  0.  1.]\n",
      " [ 1.  0.  0.]\n",
      " [ 0.  1.  0.]\n",
      " [ 0.  1.  0.]\n",
      " [ 1.  0.  0.]\n",
      " [ 0.  1.  0.]\n",
      " [ 1.  0.  0.]] [[  1.07960670e+00   6.49885699e-02  -1.44595271e-01]\n",
      " [ -9.51200913e-04   3.79177303e-01   6.21773898e-01]\n",
      " [  6.72236648e-02   9.25538544e-01   7.23779163e-03]\n",
      " [  9.34260355e-01   1.72328878e-01  -1.06589232e-01]\n",
      " [ -1.11550910e-01   5.41493129e-01   5.70057781e-01]\n",
      " [  2.29012585e-01   7.09291490e-01   6.16959253e-02]\n",
      " [ -3.82621130e-01   4.83645807e-01   8.98975323e-01]\n",
      " [  8.74849857e-01   2.80713478e-01  -1.55563334e-01]\n",
      " [ -1.60753659e-02   5.16738455e-02   9.64401520e-01]\n",
      " [  8.49846475e-02   3.80221595e-01   5.34793758e-01]\n",
      " [  2.55741495e-02   4.88606195e-01   4.85819656e-01]\n",
      " [  8.91292430e-01   1.71806732e-01  -6.30991621e-02]\n",
      " [ -1.29854973e-01   3.77610864e-01   7.52244109e-01]\n",
      " [  8.02176683e-01   3.34383632e-01  -1.36560315e-01]\n",
      " [  1.19731285e-01   4.35197114e-01   4.45071602e-01]\n",
      " [  1.62699209e-01   4.35719260e-01   4.01581531e-01]\n",
      " [ -8.50255596e-02   6.50922021e-01   4.34103538e-01]\n",
      " [  2.55741495e-02   4.88606195e-01   4.85819656e-01]\n",
      " [ -2.11167542e-02  -5.74939735e-02   1.07861073e+00]\n",
      " [  7.67633606e-02   4.34674968e-01   4.88561672e-01]\n",
      " [  9.85449566e-01   1.18397651e-01  -1.03847216e-01]\n",
      " [ -6.54030872e-02   3.78394083e-01   6.87009004e-01]\n",
      " [  8.79891245e-01   3.89881297e-01  -2.69772542e-01]\n",
      " [  3.23169720e-01   6.55882409e-01   2.09478709e-02]\n",
      " [  8.26840544e-01   1.71023513e-01   2.13594331e-03]\n",
      " [  1.65879108e-01   2.72098068e-01   5.62022825e-01]\n",
      " [  1.70920496e-01   3.81265887e-01   4.47813617e-01]\n",
      " [ -1.46297547e-01   4.86517610e-01   6.59779937e-01]\n",
      " [ -9.51200913e-04   3.79177303e-01   6.21773898e-01]\n",
      " [  6.85420737e-02   4.89128341e-01   4.42329586e-01]\n",
      " [  2.08847032e-01   2.72620214e-01   5.18532755e-01]\n",
      " [  9.32059344e-02   3.25768222e-01   5.81025844e-01]\n",
      " [  1.03159739e+00  -4.47013952e-02   1.31040067e-02]\n",
      " [  9.04555106e-01   2.26521178e-01  -1.31076283e-01]\n",
      " [  7.72471434e-01   3.88575931e-01  -1.61047366e-01]\n",
      " [ -8.37071507e-02   2.14511818e-01   8.69195332e-01]\n",
      " [ -1.06509522e-01   6.50660948e-01   4.55848573e-01]\n",
      " [  1.17190235e+00  -2.61209522e-01   8.93071755e-02]\n",
      " [ -3.56978382e-02   3.24201783e-01   7.11496055e-01]\n",
      " [  9.17817781e-01   2.81235624e-01  -1.99053404e-01]\n",
      " [  8.69808468e-01   1.71545659e-01  -4.13541269e-02]\n",
      " [  6.35006854e-02   3.79960522e-01   5.56538793e-01]\n",
      " [ -5.71818003e-02   3.23940710e-01   7.33241090e-01]\n",
      " [ -2.78381218e-01   6.48572364e-01   6.29808854e-01]\n",
      " [  2.13888420e-01   3.81788033e-01   4.04323547e-01]\n",
      " [  2.00625745e-01   3.27073587e-01   4.72300668e-01]\n",
      " [  1.92143523e-02   8.15848578e-01   1.64937069e-01]\n",
      " [  1.38035348e-01   5.99079379e-01   2.62885273e-01]\n",
      " [ -3.88777368e-02   4.87822975e-01   5.51054761e-01]\n",
      " [  1.00189214e+00   9.49090481e-03  -1.13830443e-02]\n",
      " [  9.82473227e-02   4.34936041e-01   4.66816637e-01]\n",
      " [ -8.82054581e-02   8.14543213e-01   2.73662245e-01]\n",
      " [  8.96333819e-01   2.80974551e-01  -1.77308369e-01]\n",
      " [  7.99432591e-02   2.71053776e-01   6.49002965e-01]\n",
      " [ -6.85829858e-02   5.42015275e-01   5.26567710e-01]\n",
      " [ -2.05708045e-01   5.94902210e-01   6.10805835e-01]\n",
      " [  1.49436534e-01   3.81004814e-01   4.69558653e-01]\n",
      " [  1.89224559e-01   5.45148152e-01   2.65627289e-01]\n",
      " [  9.12776392e-01   1.72067805e-01  -8.48441972e-02]\n",
      " [  9.88629464e-01  -4.52235412e-02   5.65940770e-02]\n",
      " [  2.68257530e-01   1.64235614e-01   5.67506856e-01]\n",
      " [  1.21592774e-01   7.07986125e-01   1.70421101e-01]\n",
      " [  1.01011343e+00  -4.49624682e-02   3.48490418e-02]\n",
      " [ -1.06509522e-01   6.50660948e-01   4.55848573e-01]\n",
      " [ -6.54030872e-02   3.78394083e-01   6.87009004e-01]\n",
      " [ -6.85829858e-02   5.42015275e-01   5.26567710e-01]\n",
      " [  1.29814061e-01   6.53532752e-01   2.16653187e-01]\n",
      " [ -2.66980033e-01   4.30497799e-01   8.36482234e-01]\n",
      " [  8.36923321e-01   3.89359151e-01  -2.26282471e-01]\n",
      " [  4.89196013e-02   7.61656279e-01   1.89424120e-01]\n",
      " [  1.99307336e-01   7.63483790e-01   3.72088743e-02]\n",
      " [  8.15439359e-01   3.89098078e-01  -2.04537436e-01]\n",
      " [  1.62699209e-01   4.35719260e-01   4.01581531e-01]\n",
      " [  1.12071314e+00  -2.07278295e-01   8.65651596e-02]]\n",
      "Training Accuracy reduced features:"
     ]
    },
    {
     "ename": "ValueError",
     "evalue": "Found arrays with inconsistent numbers of samples: [ 74 222]",
     "output_type": "error",
     "traceback": [
      "\u001b[0;31m---------------------------------------------------------------------------\u001b[0m",
      "\u001b[0;31mValueError\u001b[0m                                Traceback (most recent call last)",
      "\u001b[0;32m<ipython-input-192-a09ca9653752>\u001b[0m in \u001b[0;36m<module>\u001b[0;34m()\u001b[0m\n\u001b[1;32m     16\u001b[0m \u001b[1;32mprint\u001b[0m \u001b[0mYtr_oh\u001b[0m\u001b[1;33m,\u001b[0m \u001b[0mYhat_tr_LS_red\u001b[0m\u001b[1;33m\u001b[0m\u001b[0m\n\u001b[1;32m     17\u001b[0m \u001b[1;33m\u001b[0m\u001b[0m\n\u001b[0;32m---> 18\u001b[0;31m \u001b[1;32mprint\u001b[0m \u001b[1;34m\"Training Accuracy reduced features:\"\u001b[0m\u001b[1;33m,\u001b[0m  \u001b[0mmetrics\u001b[0m\u001b[1;33m.\u001b[0m\u001b[0maccuracy_score\u001b[0m\u001b[1;33m(\u001b[0m\u001b[0mYtr_oh\u001b[0m\u001b[1;33m,\u001b[0m\u001b[0mYhat_tr_LS_red_oh\u001b[0m \u001b[1;33m)\u001b[0m\u001b[1;33m\u001b[0m\u001b[0m\n\u001b[0m\u001b[1;32m     19\u001b[0m \u001b[1;32mprint\u001b[0m \u001b[1;34m\"Validation Accuracy  reduced features:\"\u001b[0m\u001b[1;33m,\u001b[0m  \u001b[0mmetrics\u001b[0m\u001b[1;33m.\u001b[0m\u001b[0maccuracy_score\u001b[0m\u001b[1;33m(\u001b[0m\u001b[0mYva_oh\u001b[0m\u001b[1;33m,\u001b[0m\u001b[0mYhat_va_LS_red_oh\u001b[0m \u001b[1;33m)\u001b[0m\u001b[1;33m\u001b[0m\u001b[0m\n\u001b[1;32m     20\u001b[0m \u001b[1;33m\u001b[0m\u001b[0m\n",
      "\u001b[0;32mC:\\Program Files\\Anaconda2\\lib\\site-packages\\sklearn\\metrics\\classification.py\u001b[0m in \u001b[0;36maccuracy_score\u001b[0;34m(y_true, y_pred, normalize, sample_weight)\u001b[0m\n\u001b[1;32m    170\u001b[0m \u001b[1;33m\u001b[0m\u001b[0m\n\u001b[1;32m    171\u001b[0m     \u001b[1;31m# Compute accuracy for each possible representation\u001b[0m\u001b[1;33m\u001b[0m\u001b[1;33m\u001b[0m\u001b[0m\n\u001b[0;32m--> 172\u001b[0;31m     \u001b[0my_type\u001b[0m\u001b[1;33m,\u001b[0m \u001b[0my_true\u001b[0m\u001b[1;33m,\u001b[0m \u001b[0my_pred\u001b[0m \u001b[1;33m=\u001b[0m \u001b[0m_check_targets\u001b[0m\u001b[1;33m(\u001b[0m\u001b[0my_true\u001b[0m\u001b[1;33m,\u001b[0m \u001b[0my_pred\u001b[0m\u001b[1;33m)\u001b[0m\u001b[1;33m\u001b[0m\u001b[0m\n\u001b[0m\u001b[1;32m    173\u001b[0m     \u001b[1;32mif\u001b[0m \u001b[0my_type\u001b[0m\u001b[1;33m.\u001b[0m\u001b[0mstartswith\u001b[0m\u001b[1;33m(\u001b[0m\u001b[1;34m'multilabel'\u001b[0m\u001b[1;33m)\u001b[0m\u001b[1;33m:\u001b[0m\u001b[1;33m\u001b[0m\u001b[0m\n\u001b[1;32m    174\u001b[0m         \u001b[0mdiffering_labels\u001b[0m \u001b[1;33m=\u001b[0m \u001b[0mcount_nonzero\u001b[0m\u001b[1;33m(\u001b[0m\u001b[0my_true\u001b[0m \u001b[1;33m-\u001b[0m \u001b[0my_pred\u001b[0m\u001b[1;33m,\u001b[0m \u001b[0maxis\u001b[0m\u001b[1;33m=\u001b[0m\u001b[1;36m1\u001b[0m\u001b[1;33m)\u001b[0m\u001b[1;33m\u001b[0m\u001b[0m\n",
      "\u001b[0;32mC:\\Program Files\\Anaconda2\\lib\\site-packages\\sklearn\\metrics\\classification.py\u001b[0m in \u001b[0;36m_check_targets\u001b[0;34m(y_true, y_pred)\u001b[0m\n\u001b[1;32m     70\u001b[0m     \u001b[0my_pred\u001b[0m \u001b[1;33m:\u001b[0m \u001b[0marray\u001b[0m \u001b[1;32mor\u001b[0m \u001b[0mindicator\u001b[0m \u001b[0mmatrix\u001b[0m\u001b[1;33m\u001b[0m\u001b[0m\n\u001b[1;32m     71\u001b[0m     \"\"\"\n\u001b[0;32m---> 72\u001b[0;31m     \u001b[0mcheck_consistent_length\u001b[0m\u001b[1;33m(\u001b[0m\u001b[0my_true\u001b[0m\u001b[1;33m,\u001b[0m \u001b[0my_pred\u001b[0m\u001b[1;33m)\u001b[0m\u001b[1;33m\u001b[0m\u001b[0m\n\u001b[0m\u001b[1;32m     73\u001b[0m     \u001b[0mtype_true\u001b[0m \u001b[1;33m=\u001b[0m \u001b[0mtype_of_target\u001b[0m\u001b[1;33m(\u001b[0m\u001b[0my_true\u001b[0m\u001b[1;33m)\u001b[0m\u001b[1;33m\u001b[0m\u001b[0m\n\u001b[1;32m     74\u001b[0m     \u001b[0mtype_pred\u001b[0m \u001b[1;33m=\u001b[0m \u001b[0mtype_of_target\u001b[0m\u001b[1;33m(\u001b[0m\u001b[0my_pred\u001b[0m\u001b[1;33m)\u001b[0m\u001b[1;33m\u001b[0m\u001b[0m\n",
      "\u001b[0;32mC:\\Program Files\\Anaconda2\\lib\\site-packages\\sklearn\\utils\\validation.py\u001b[0m in \u001b[0;36mcheck_consistent_length\u001b[0;34m(*arrays)\u001b[0m\n\u001b[1;32m    174\u001b[0m     \u001b[1;32mif\u001b[0m \u001b[0mlen\u001b[0m\u001b[1;33m(\u001b[0m\u001b[0muniques\u001b[0m\u001b[1;33m)\u001b[0m \u001b[1;33m>\u001b[0m \u001b[1;36m1\u001b[0m\u001b[1;33m:\u001b[0m\u001b[1;33m\u001b[0m\u001b[0m\n\u001b[1;32m    175\u001b[0m         raise ValueError(\"Found arrays with inconsistent numbers of samples: \"\n\u001b[0;32m--> 176\u001b[0;31m                          \"%s\" % str(uniques))\n\u001b[0m\u001b[1;32m    177\u001b[0m \u001b[1;33m\u001b[0m\u001b[0m\n\u001b[1;32m    178\u001b[0m \u001b[1;33m\u001b[0m\u001b[0m\n",
      "\u001b[0;31mValueError\u001b[0m: Found arrays with inconsistent numbers of samples: [ 74 222]"
     ]
    }
   ],
   "source": [
    "features = [1,2]  # chose two \n",
    "Xtr_red = Xtr[:,features]\n",
    "Xva_red = Xva[:,features]\n",
    "\n",
    "reg_red = linear_model.LinearRegression() \n",
    "reg_red.fit(Xtr_red, Ytr_oh) # define and fit model \n",
    "\n",
    "\n",
    "Yhat_tr_LS_red = reg_red.predict(Xtr_red) #prediction with two features (training data)\n",
    "Yhat_va_LS_red = reg_red.predict(Xva_red) #prediction with two features (validation  data)\n",
    "\n",
    "\n",
    "Yhat_tr_LS_red_oh = onehot_encoder.fit_transform(Yhat_tr_LS_red.reshape(-1,1)).toarray()\n",
    "Yhat_va_LS_red_oh = onehot_encoder.fit_transform(Yhat_va_LS_red.reshape(-1,1)).toarray()\n",
    "\n",
    "print Ytr_oh, Yhat_tr_LS_red\n",
    "\n",
    "print \"Training Accuracy reduced features:\",  metrics.accuracy_score(Ytr_oh,Yhat_tr_LS_red_oh )\n",
    "print \"Validation Accuracy  reduced features:\",  metrics.accuracy_score(Yva_oh,Yhat_va_LS_red_oh )\n",
    "\n",
    "\n"
   ]
  },
  {
   "cell_type": "markdown",
   "metadata": {},
   "source": [
    "### The following function is for you to visualize classification results  when using two features\n",
    "- X is the design matrix\n",
    "- Y is the output\n",
    "- Yhat is the predicted output\n",
    "- model contains the coefficients of the linear discriminat functions (e.g. from linear regression above)\n",
    "- features is the vector of indexes used as feautures (only for plotting purposes)"
   ]
  },
  {
   "cell_type": "code",
   "execution_count": 179,
   "metadata": {
    "collapsed": false
   },
   "outputs": [
    {
     "name": "stdout",
     "output_type": "stream",
     "text": [
      "\n"
     ]
    }
   ],
   "source": [
    "def plot_LinearRegressionClassifier(X, Y,Yhat, model, features):\n",
    "    K = int(Y.max()+1)\n",
    "    \n",
    "    x_min, x_max = X[:, 0].min() - .5, X[:, 0].max() +  .5\n",
    "    y_min, y_max = X[:, 1].min() - .5, X[:, 1].max() +  .5\n",
    "    xs = np.arange(x_min, x_max, 0.005)  \n",
    "    \n",
    "    fig, axes = plt.subplots(K,1)\n",
    "    \n",
    "    \n",
    "    fig.set_size_inches(7, 12)\n",
    "    \n",
    "    idx_class = []\n",
    "    idx_not_class = []\n",
    "    idx_class_est =[]\n",
    "    \n",
    "    index = np.array(range(K))\n",
    "    \n",
    "    for i in index:\n",
    "\n",
    "        axes[i].set_aspect('equal')\n",
    "        axes[i].set_title('Class '+ labels_list[i] + ' versus the rest')\n",
    "        axes[i].set_xlabel(features_list[features[0]])\n",
    "        axes[i].set_ylabel(features_list[features[1]])\n",
    "        axes[i].set_xlim(x_min, x_max)\n",
    "        axes[i].set_ylim(y_min, y_max)\n",
    "        \n",
    "         \n",
    "         \n",
    "        idx_class.insert(i, np.argwhere(Y == i).reshape(-1,))\n",
    "        idx_not_class.insert(i, np.argwhere(Y != i).reshape(-1,))\n",
    "        idx_class_est.insert(i, np.argwhere(Yhat == i).reshape(-1,))\n",
    "        \n",
    "       \n",
    "        \n",
    "        axes[i].scatter(X[idx_class_est[i], 0], X[idx_class_est[i], 1], c='y', alpha=0.6,marker='d',s=150)\n",
    "        \n",
    "        axes[i].scatter(X[idx_class[i], 0], X[idx_class[i], 1], c='r', alpha=0.6, s=50)\n",
    "      \n",
    "        axes[i].scatter(X[idx_not_class[i], 0], X[idx_not_class[i], 1], c='b', alpha=0.6,s=50)\n",
    "        \n",
    "        \n",
    "        idx_compare = np.hstack(((range(i)),range(i+1,K)))\n",
    "       \n",
    "        idx_compare = index[index!=i]\n",
    "     \n",
    "                                \n",
    "        ys0 = ( (model.intercept_[i]-model.intercept_[idx_compare[0]]) + xs * (model.coef_[i, 0]-model.coef_[idx_compare[0], 0])) / (model.coef_[idx_compare[0], 1]-model.coef_[i, 1])\n",
    "        axes[i].plot(xs, ys0, 'k') \n",
    "        \n",
    "        ys1 = ( (model.intercept_[i]-model.intercept_[idx_compare[1]]) + xs * (model.coef_[i, 0]-model.coef_[idx_compare[1], 0])) / (model.coef_[idx_compare[1], 1]-model.coef_[i, 1])\n",
    "        axes[i].plot(xs, ys1, 'b') \n",
    "        \n",
    "        \n",
    "        vec_ind = np.argwhere(ys0<ys1).reshape(-1,)\n",
    "        flag = 0\n",
    "        \n",
    "        if vec_ind.shape[0] == 0:\n",
    "            ind_intersection = 0 \n",
    "            \n",
    "        else:\n",
    "            \n",
    "             ind_intersection = vec_ind.min()\n",
    "                \n",
    "             if ind_intersection==0:\n",
    "                    ind_intersection = vec_ind.max()\n",
    "                    flag = 1\n",
    "        \n",
    "        ind_intersection = int(ind_intersection)\n",
    "            \n",
    "        xmin, xmax, ymin, ymax = axes[i].axis()\n",
    "        \n",
    "        \n",
    "        if (model.coef_[idx_compare[0], 1]-model.coef_[i, 1])<0:\n",
    "            if (model.coef_[idx_compare[1], 1]-model.coef_[i, 1])<0:\n",
    "                \n",
    "                if flag:\n",
    "                    axes[i].fill_between(xs[0:ind_intersection+1], ys1[0:ind_intersection+1], ymax,alpha=0.1)\n",
    "                    axes[i].fill_between(xs[ind_intersection:], ys0[ind_intersection:], ymax,alpha=0.1)\n",
    "                else:\n",
    "                    axes[i].fill_between(xs[0:ind_intersection+1], ys0[0:ind_intersection+1], ymax,alpha=0.1)\n",
    "                    axes[i].fill_between(xs[ind_intersection:], ys1[ind_intersection:], ymax,alpha=0.1)\n",
    "                \n",
    "            else:\n",
    "                if flag:\n",
    "                    axes[i].fill_between(xs[0:ind_intersection], ys0[0:ind_intersection], ys1[0:ind_intersection],alpha=0.1) \n",
    "                else:\n",
    "                    axes[i].fill_between(xs[ind_intersection:], ys0[ind_intersection:], ys1[ind_intersection:],alpha=0.1) \n",
    "               \n",
    "        else:\n",
    "            if (model.coef_[idx_compare[1], 1]-model.coef_[i, 1])<0:\n",
    "                if flag:\n",
    "                    axes[i].fill_between(xs[ind_intersection:], ys1[ind_intersection:], ys0[ind_intersection:],alpha=0.1)\n",
    "                else:\n",
    "                    axes[i].fill_between(xs[0:ind_intersection], ys1[0:ind_intersection], ys0[0:ind_intersection],alpha=0.1)\n",
    "              \n",
    "            \n",
    "            else:\n",
    "                if flag:\n",
    "                    axes[i].fill_between(xs[ind_intersection:], ymin, ys1[ind_intersection:],alpha=0.1)\n",
    "                    axes[i].fill_between(xs[0:ind_intersection+1], ymin, ys0[0:ind_intersection+1],alpha=0.1) \n",
    "                else:\n",
    "                    axes[i].fill_between(xs[ind_intersection:], ymin, ys0[ind_intersection:],alpha=0.1)\n",
    "                    axes[i].fill_between(xs[0:ind_intersection+1], ymin, ys1[0:ind_intersection+1],alpha=0.1) \n",
    " \n",
    "        \n",
    "        #ys = ( - reg_red.intercept_[1] - xs * reg_red.coef_[1, 0]) / reg_red.coef_[1, 1]\n",
    "        #axes[i].plot(xs, ys, 'b') \n",
    "        #ys = ( - reg_red.intercept_[2] - xs * reg_red.coef_[2, 0]) / reg_red.coef_[2, 1]\n",
    "        #axes[i].plot(xs, ys, 'r') \n",
    "    plt.tight_layout()\n",
    "\n",
    "\n",
    "    "
   ]
  },
  {
   "cell_type": "markdown",
   "metadata": {},
   "source": [
    "## Now we are ready to visualize"
   ]
  },
  {
   "cell_type": "code",
   "execution_count": 180,
   "metadata": {
    "collapsed": false
   },
   "outputs": [
    {
     "name": "stdout",
     "output_type": "stream",
     "text": [
      "[ 0.32248157  0.35509381  0.32242462]\n"
     ]
    }
   ],
   "source": [
    "print reg_red.intercept_"
   ]
  },
  {
   "cell_type": "code",
   "execution_count": 181,
   "metadata": {
    "collapsed": false,
    "scrolled": true
   },
   "outputs": [
    {
     "data": {
      "image/png": "[encoded data removed]",
      "text/plain": [
       "<matplotlib.figure.Figure at 0xc75a828>"
      ]
     },
     "metadata": {},
     "output_type": "display_data"
    }
   ],
   "source": [
    "\n",
    "plot_LinearRegressionClassifier(Xva_red, Yva, Yhat_va_LS_red, reg_red, features)"
   ]
  },
  {
   "cell_type": "markdown",
   "metadata": {},
   "source": [
    "\n",
    "## Linear Discriminant Analysis\n",
    "\n",
    "Linear dscriminant analysis is a technique we shall introduce tomorrow in class. It is a linear classifier in the sense that the separation between classes is provided by a  linear rule. It is essentially based in the assumption that, the for each data pair $(x,y)$, $y \\in {\\cal G}$, ${\\cal G}=\\{1,2,...,K\\}$, the distribution of $x$ under the condition that $y=k$ (i.e. that $x$ belongs to the $k-th$ class), $x$ is normally distributed with mean $\\mu_k$ and variance $\\Sigma$ (indipendent of the class label $y$), i.e.:\n",
    "\n",
    "$$\n",
    " x \\; | \\; y = k \\sim {\\cal N}(\\mu_k, \\Sigma)\n",
    " $$\n",
    "\n",
    "\n",
    "\n",
    "In the meantime, we can see how it performs on the Iris dataset. By tomorrow you will be able to understand the main steps. \n",
    "\n",
    "### Step 1 (prior probabilities)\n",
    "\n",
    "Estimate the prior probabilities for each class as $$\\hat{\\pi}_k = \\frac{N_k}{N}$$ where $N_k$ is the number of occurrences of class $k$ in the training data."
   ]
  },
  {
   "cell_type": "markdown",
   "metadata": {},
   "source": [
    "### TO DO 4\n",
    "- compute priors probabiliies according to equation above"
   ]
  },
  {
   "cell_type": "code",
   "execution_count": null,
   "metadata": {
    "collapsed": false
   },
   "outputs": [],
   "source": [
    "# Compute prior probabilities for each class\n",
    "pi = ????"
   ]
  },
  {
   "cell_type": "markdown",
   "metadata": {},
   "source": [
    "### Step 2 (class centroids)\n",
    "\n",
    "Estimate the class centroids as $$\\hat{\\mu}_k = \\frac{1}{N_k} \\sum_{i:y_i=k} x_i$$\n",
    "\n",
    "### TO DO 5\n",
    "- compute class centroids  according to equation above"
   ]
  },
  {
   "cell_type": "code",
   "execution_count": null,
   "metadata": {
    "collapsed": false
   },
   "outputs": [],
   "source": [
    "# Compute  class centroids\n",
    "mu = np.zeros((K,n))\n",
    "\n",
    "\n",
    "mu[i,:]  # will be centroid for class i "
   ]
  },
  {
   "cell_type": "markdown",
   "metadata": {},
   "source": [
    "### Step 3 (covariance matrix) \n",
    "\n",
    "Estimate the class covariance matrix (postulating all classes have the same variance) as\n",
    "$$\\hat{\\Sigma} = \\frac{1}{N-K} \\sum_{k=1}^K \\sum_{i:y_i=k} (x_i - \\mu_k)(x_i -\\mu_k)^\\top$$\n",
    "\n",
    "### TO DO 6\n",
    "- compute covariance matrix according to equation above"
   ]
  },
  {
   "cell_type": "code",
   "execution_count": null,
   "metadata": {
    "collapsed": false
   },
   "outputs": [],
   "source": [
    "# Compute class covariance matrix\n",
    "Sigma = np.zeros((n,n))\n",
    "\n",
    "\n",
    "# TO BE DONE "
   ]
  },
  {
   "cell_type": "markdown",
   "metadata": {},
   "source": [
    "### Step 4 (class predictions)\n",
    "\n",
    "For each class compute the linear discriminant function $\\delta_k(\\cdot)$ as \n",
    "$$\\delta_k(x) = x^\\top \\hat{\\Sigma}^{-1}\\mu_k - \\frac{1}{2} \\mu_k^\\top \\hat{\\Sigma}^{-1}\\mu_k + \\log\\pi_k$$\n",
    "and classify training and validation data as\n",
    "$$G(x) = \\arg\\max_k \\delta_k(x)$$\n",
    "\n",
    "Evaluate the accuracy using metrics.accuracy_score from scikit-learn.\n",
    "\n",
    "### TO DO 7\n",
    "- compute linear discriminant functions according to equation above. Follow the structure below. Fill in the predefined functions. "
   ]
  },
  {
   "cell_type": "code",
   "execution_count": null,
   "metadata": {
    "collapsed": false
   },
   "outputs": [],
   "source": [
    "\n",
    "# Compute the linear discriminant function\n",
    "def linear_discriminant_function(x, mu, Sigmai, pi):\n",
    "    # x: new point ( shape (n,) )\n",
    "    # mu: mean vector for a specific class ( shape: (n,) )\n",
    "    # Sigmai: inverse class covariance matrix ( shape: (n,n) )\n",
    "    # pi: prior for a specific class ( scalar )\n",
    " \n",
    "\n",
    "    ## COMPLETE FUNCTION \n",
    "    \n",
    "\n",
    "\n",
    "# Compute the class prediction\n",
    "def predict_class(X, mu, Sigmai, pi):\n",
    "    # X: data matrix ( shape: (N,n) )\n",
    "    # mu: matrix containing the means of all ( shape: (K,n) )\n",
    "    # Sigmai: inverse class covariance matrix ( shape: (n,n) )\n",
    "    # pi: prior for a specific class ( shape: (n,) )\n",
    " \n",
    "    # COMPUTE PREDICTIONS  (predictions)\n",
    "    # COMPUTE DISCRIMINANTS (delta)\n",
    "\n",
    "    return predictions, delta\n",
    "    \n",
    "# Compute class predictions on training and validation data (using the two functions above)\n",
    "\n",
    "Yhat_tr_LDA, delta_tr = predict_class(Xtr, mu, Sigmai, pi)\n",
    "Yhat_va_LDA, delta_va = predict_class(Xva, mu, Sigmai, pi)\n",
    "print \"Training Accuracy:\",  ???\n",
    "print \"Validation Accuracy:\", ????\n"
   ]
  },
  {
   "cell_type": "markdown",
   "metadata": {},
   "source": [
    "## LDA using scikit-learn built-in routine\n",
    "\n",
    "For comparison we provide the solution using the build-in scikit-learn routine"
   ]
  },
  {
   "cell_type": "code",
   "execution_count": null,
   "metadata": {
    "collapsed": false
   },
   "outputs": [],
   "source": [
    "# LDA using scikit learn\n",
    "from sklearn.discriminant_analysis import LinearDiscriminantAnalysis as LDA\n",
    "clf = LDA()\n",
    "clf.fit(Xtr, Ytr)\n",
    "Yhat_tr_LDA_sc = clf.predict(Xtr) \n",
    "Yhat_va_LDA_sc = clf.predict(Xva) \n",
    "print \"Training Accuracy:\", 100*metrics.accuracy_score(Ytr, Yhat_tr_LDA_sc)\n",
    "print \"Validation Accuracy:\", 100*metrics.accuracy_score(Yva, Yhat_va_LDA_sc)"
   ]
  },
  {
   "cell_type": "markdown",
   "metadata": {},
   "source": [
    "## Model Reduction: LDA using 2 features\n",
    "\n",
    "Perform the classification on the same training and validation data but using only 2 features (choose those giving the best accuracy).\n",
    "\n",
    "Compare the results with the previous one.\n",
    "\n",
    "Use the code below to plot the points in the features space and the separating hyperplanes computed by LDA."
   ]
  },
  {
   "cell_type": "code",
   "execution_count": null,
   "metadata": {
    "collapsed": false
   },
   "outputs": [],
   "source": [
    "# LDA using 2 features as above\n",
    "\n",
    "\n",
    "clf2 = LDA()\n",
    "clf2.fit(Xtr_red, Ytr)\n",
    "Yhat_tr_LDA2 = clf2.predict(Xtr_red) \n",
    "Yhat_va_LDA2 = clf2.predict(Xva_red) \n",
    "print \"Training Accuracy:\", 100*metrics.accuracy_score(Ytr, Yhat_tr_LDA2)\n",
    "print \"Validation Accuracy:\", 100*metrics.accuracy_score(Yva, Yhat_va_LDA2)\n",
    "\n",
    "\n",
    "\n",
    "plot_LinearRegressionClassifier(Xva_red, Yva, Yhat_va_LDA2, clf2, features)\n",
    "\n"
   ]
  },
  {
   "cell_type": "markdown",
   "metadata": {},
   "source": [
    "\n",
    "## TO DO 8\n",
    "\n",
    "### Compute LDA directly \n",
    "\n",
    "- write the function below which outputs the variables:\n",
    "\n",
    " 1) reg_LDA (a linear model with linear discriminant functions)\n",
    " 2) Yhat_tr_LDA (Predcition on trainign data, as done above) \n",
    " 3) evaluated discriminant functions delta_tr (on training data) \n",
    " 4) Yhat_va_LDA, delta_va: As above but for validation data\n"
   ]
  },
  {
   "cell_type": "code",
   "execution_count": null,
   "metadata": {
    "collapsed": false
   },
   "outputs": [],
   "source": [
    "def Compute_parameters_LDA(X, Y, Xva):\n",
    "\n",
    "    \n",
    "    mu = ??\n",
    "    Sigmai = ???\n",
    "    pi = ???\n",
    "    \n",
    "    intercept =  ???? # compute intercept of discriminant functions (defined above in step 4)\n",
    "    coef      =  ???? # compute coefficients of discriminant functions (defined above in step 4)\n",
    "    \n",
    "    reg_LDA = linear_model.LinearRegression()\n",
    "    reg_LDA.intercept_=intercept\n",
    "    reg_LDA.coef_=coef\n",
    "    \n",
    "    Yhat_tr_LDA, delta_tr = predict_class(X, mu, Sigmai, pi)\n",
    "    Yhat_va_LDA, delta_va = predict_class(Xva, mu, Sigmai, pi)\n",
    "\n",
    "    return reg_LDA,  Yhat_tr_LDA,  delta_tr, Yhat_va_LDA, delta_va"
   ]
  },
  {
   "cell_type": "markdown",
   "metadata": {},
   "source": [
    "### Once you are done with the above, you can plot the results as done before, using the code below"
   ]
  },
  {
   "cell_type": "code",
   "execution_count": null,
   "metadata": {
    "collapsed": false
   },
   "outputs": [],
   "source": [
    "reg_LDA, Yhat_tr_LDA2_1,  delta_tr2_1, Yhat_va_LDA2_1, delta_va2_1 = Compute_parameters_LDA(Xtr_red, Ytr, Xva_red)\n",
    "\n",
    "print \"Training Accuracy:\", 100*metrics.accuracy_score(Ytr, Yhat_tr_LDA2_1)\n",
    "print \"Validation Accuracy:\", 100*metrics.accuracy_score(Yva, Yhat_va_LDA2_1)\n",
    "\n",
    "#print reg_LDA.intercept_\n",
    "#print reg_LDA.coef_\n",
    "\n",
    "plot_LinearRegressionClassifier(Xva_red, Yva, Yhat_va_LDA2_1, reg_LDA, features)\n",
    "\n"
   ]
  }
 ],
 "metadata": {
  "anaconda-cloud": {},
  "kernelspec": {
   "display_name": "Python [conda root]",
   "language": "python",
   "name": "conda-root-py"
  },
  "language_info": {
   "codemirror_mode": {
    "name": "ipython",
    "version": 2
   },
   "file_extension": ".py",
   "mimetype": "text/x-python",
   "name": "python",
   "nbconvert_exporter": "python",
   "pygments_lexer": "ipython2",
   "version": "2.7.12"
  }
 },
 "nbformat": 4,
 "nbformat_minor": 1
}
