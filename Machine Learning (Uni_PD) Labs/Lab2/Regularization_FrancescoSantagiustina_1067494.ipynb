{
 "cells": [
  {
   "cell_type": "markdown",
   "metadata": {},
   "source": [
    "# Regularized Regression on House Pricing Dataset\n",
    "We consider a reduced version of a dataset containing house sale prices for King County, which includes Seattle. It includes homes sold between May 2014 and May 2015.\n",
    "\n",
    "[https://www.kaggle.com/harlfoxem/housesalesprediction]\n",
    "\n",
    "For each house we know 19 house features (e.g., number of bedrooms, number of bathrooms, etc.) plus its price, that is what we would like to predict."
   ]
  },
  {
   "cell_type": "code",
   "execution_count": 178,
   "metadata": {
    "collapsed": true
   },
   "outputs": [],
   "source": [
    "#import all packages needed\n",
    "%matplotlib inline\n",
    "from __future__ import division\n",
    "import pandas as pd\n",
    "import numpy as np\n",
    "import matplotlib.pyplot as plt"
   ]
  },
  {
   "cell_type": "markdown",
   "metadata": {},
   "source": [
    "Load the data, remove data samples/points with missing values (NaN) and take a look at them."
   ]
  },
  {
   "cell_type": "code",
   "execution_count": 179,
   "metadata": {
    "collapsed": false
   },
   "outputs": [
    {
     "data": {
      "text/html": [
       "<div>\n",
       "<table border=\"1\" class=\"dataframe\">\n",
       "  <thead>\n",
       "    <tr style=\"text-align: right;\">\n",
       "      <th></th>\n",
       "      <th>id</th>\n",
       "      <th>price</th>\n",
       "      <th>bedrooms</th>\n",
       "      <th>bathrooms</th>\n",
       "      <th>sqft_living</th>\n",
       "      <th>sqft_lot</th>\n",
       "      <th>floors</th>\n",
       "      <th>waterfront</th>\n",
       "      <th>view</th>\n",
       "      <th>condition</th>\n",
       "      <th>grade</th>\n",
       "      <th>sqft_above</th>\n",
       "      <th>sqft_basement</th>\n",
       "      <th>yr_built</th>\n",
       "      <th>yr_renovated</th>\n",
       "      <th>zipcode</th>\n",
       "      <th>lat</th>\n",
       "      <th>long</th>\n",
       "      <th>sqft_living15</th>\n",
       "      <th>sqft_lot15</th>\n",
       "    </tr>\n",
       "  </thead>\n",
       "  <tbody>\n",
       "    <tr>\n",
       "      <th>count</th>\n",
       "      <td>3.164000e+03</td>\n",
       "      <td>3.164000e+03</td>\n",
       "      <td>3164.000000</td>\n",
       "      <td>3164.000000</td>\n",
       "      <td>3164.000000</td>\n",
       "      <td>3.164000e+03</td>\n",
       "      <td>3164.000000</td>\n",
       "      <td>3164.000000</td>\n",
       "      <td>3164.000000</td>\n",
       "      <td>3164.000000</td>\n",
       "      <td>3164.000000</td>\n",
       "      <td>3164.000000</td>\n",
       "      <td>3164.000000</td>\n",
       "      <td>3164.000000</td>\n",
       "      <td>3164.000000</td>\n",
       "      <td>3164.000000</td>\n",
       "      <td>3164.000000</td>\n",
       "      <td>3164.000000</td>\n",
       "      <td>3164.000000</td>\n",
       "      <td>3164.000000</td>\n",
       "    </tr>\n",
       "    <tr>\n",
       "      <th>mean</th>\n",
       "      <td>4.645240e+09</td>\n",
       "      <td>5.354358e+05</td>\n",
       "      <td>3.381163</td>\n",
       "      <td>2.071903</td>\n",
       "      <td>2070.027813</td>\n",
       "      <td>1.525054e+04</td>\n",
       "      <td>1.434893</td>\n",
       "      <td>0.009798</td>\n",
       "      <td>0.244311</td>\n",
       "      <td>3.459229</td>\n",
       "      <td>7.615676</td>\n",
       "      <td>1761.252212</td>\n",
       "      <td>308.775601</td>\n",
       "      <td>1967.489254</td>\n",
       "      <td>94.668774</td>\n",
       "      <td>98077.125158</td>\n",
       "      <td>47.557868</td>\n",
       "      <td>-122.212337</td>\n",
       "      <td>1982.544564</td>\n",
       "      <td>13176.302465</td>\n",
       "    </tr>\n",
       "    <tr>\n",
       "      <th>std</th>\n",
       "      <td>2.854203e+09</td>\n",
       "      <td>3.809004e+05</td>\n",
       "      <td>0.895472</td>\n",
       "      <td>0.768212</td>\n",
       "      <td>920.251879</td>\n",
       "      <td>4.254457e+04</td>\n",
       "      <td>0.507792</td>\n",
       "      <td>0.098513</td>\n",
       "      <td>0.776298</td>\n",
       "      <td>0.682592</td>\n",
       "      <td>1.166324</td>\n",
       "      <td>815.934864</td>\n",
       "      <td>458.977904</td>\n",
       "      <td>28.095275</td>\n",
       "      <td>424.439427</td>\n",
       "      <td>54.172937</td>\n",
       "      <td>0.140789</td>\n",
       "      <td>0.139577</td>\n",
       "      <td>686.256670</td>\n",
       "      <td>25413.180755</td>\n",
       "    </tr>\n",
       "    <tr>\n",
       "      <th>min</th>\n",
       "      <td>1.000102e+06</td>\n",
       "      <td>7.500000e+04</td>\n",
       "      <td>0.000000</td>\n",
       "      <td>0.000000</td>\n",
       "      <td>380.000000</td>\n",
       "      <td>6.490000e+02</td>\n",
       "      <td>1.000000</td>\n",
       "      <td>0.000000</td>\n",
       "      <td>0.000000</td>\n",
       "      <td>1.000000</td>\n",
       "      <td>3.000000</td>\n",
       "      <td>380.000000</td>\n",
       "      <td>0.000000</td>\n",
       "      <td>1900.000000</td>\n",
       "      <td>0.000000</td>\n",
       "      <td>98001.000000</td>\n",
       "      <td>47.177500</td>\n",
       "      <td>-122.514000</td>\n",
       "      <td>620.000000</td>\n",
       "      <td>660.000000</td>\n",
       "    </tr>\n",
       "    <tr>\n",
       "      <th>25%</th>\n",
       "      <td>2.199775e+09</td>\n",
       "      <td>3.150000e+05</td>\n",
       "      <td>3.000000</td>\n",
       "      <td>1.500000</td>\n",
       "      <td>1430.000000</td>\n",
       "      <td>5.453750e+03</td>\n",
       "      <td>1.000000</td>\n",
       "      <td>0.000000</td>\n",
       "      <td>0.000000</td>\n",
       "      <td>3.000000</td>\n",
       "      <td>7.000000</td>\n",
       "      <td>1190.000000</td>\n",
       "      <td>0.000000</td>\n",
       "      <td>1950.000000</td>\n",
       "      <td>0.000000</td>\n",
       "      <td>98032.000000</td>\n",
       "      <td>47.459575</td>\n",
       "      <td>-122.324250</td>\n",
       "      <td>1480.000000</td>\n",
       "      <td>5429.500000</td>\n",
       "    </tr>\n",
       "    <tr>\n",
       "      <th>50%</th>\n",
       "      <td>4.027701e+09</td>\n",
       "      <td>4.450000e+05</td>\n",
       "      <td>3.000000</td>\n",
       "      <td>2.000000</td>\n",
       "      <td>1910.000000</td>\n",
       "      <td>8.000000e+03</td>\n",
       "      <td>1.000000</td>\n",
       "      <td>0.000000</td>\n",
       "      <td>0.000000</td>\n",
       "      <td>3.000000</td>\n",
       "      <td>7.000000</td>\n",
       "      <td>1545.000000</td>\n",
       "      <td>0.000000</td>\n",
       "      <td>1969.000000</td>\n",
       "      <td>0.000000</td>\n",
       "      <td>98059.000000</td>\n",
       "      <td>47.572500</td>\n",
       "      <td>-122.226000</td>\n",
       "      <td>1830.000000</td>\n",
       "      <td>7873.000000</td>\n",
       "    </tr>\n",
       "    <tr>\n",
       "      <th>75%</th>\n",
       "      <td>7.358175e+09</td>\n",
       "      <td>6.402500e+05</td>\n",
       "      <td>4.000000</td>\n",
       "      <td>2.500000</td>\n",
       "      <td>2500.000000</td>\n",
       "      <td>1.122250e+04</td>\n",
       "      <td>2.000000</td>\n",
       "      <td>0.000000</td>\n",
       "      <td>0.000000</td>\n",
       "      <td>4.000000</td>\n",
       "      <td>8.000000</td>\n",
       "      <td>2150.000000</td>\n",
       "      <td>600.000000</td>\n",
       "      <td>1990.000000</td>\n",
       "      <td>0.000000</td>\n",
       "      <td>98117.000000</td>\n",
       "      <td>47.680250</td>\n",
       "      <td>-122.124000</td>\n",
       "      <td>2360.000000</td>\n",
       "      <td>10408.250000</td>\n",
       "    </tr>\n",
       "    <tr>\n",
       "      <th>max</th>\n",
       "      <td>9.839301e+09</td>\n",
       "      <td>5.350000e+06</td>\n",
       "      <td>8.000000</td>\n",
       "      <td>6.000000</td>\n",
       "      <td>8010.000000</td>\n",
       "      <td>1.651359e+06</td>\n",
       "      <td>3.500000</td>\n",
       "      <td>1.000000</td>\n",
       "      <td>4.000000</td>\n",
       "      <td>5.000000</td>\n",
       "      <td>12.000000</td>\n",
       "      <td>6720.000000</td>\n",
       "      <td>2620.000000</td>\n",
       "      <td>2015.000000</td>\n",
       "      <td>2015.000000</td>\n",
       "      <td>98199.000000</td>\n",
       "      <td>47.777600</td>\n",
       "      <td>-121.315000</td>\n",
       "      <td>5790.000000</td>\n",
       "      <td>425581.000000</td>\n",
       "    </tr>\n",
       "  </tbody>\n",
       "</table>\n",
       "</div>"
      ],
      "text/plain": [
       "                 id         price     bedrooms    bathrooms  sqft_living  \\\n",
       "count  3.164000e+03  3.164000e+03  3164.000000  3164.000000  3164.000000   \n",
       "mean   4.645240e+09  5.354358e+05     3.381163     2.071903  2070.027813   \n",
       "std    2.854203e+09  3.809004e+05     0.895472     0.768212   920.251879   \n",
       "min    1.000102e+06  7.500000e+04     0.000000     0.000000   380.000000   \n",
       "25%    2.199775e+09  3.150000e+05     3.000000     1.500000  1430.000000   \n",
       "50%    4.027701e+09  4.450000e+05     3.000000     2.000000  1910.000000   \n",
       "75%    7.358175e+09  6.402500e+05     4.000000     2.500000  2500.000000   \n",
       "max    9.839301e+09  5.350000e+06     8.000000     6.000000  8010.000000   \n",
       "\n",
       "           sqft_lot       floors   waterfront         view    condition  \\\n",
       "count  3.164000e+03  3164.000000  3164.000000  3164.000000  3164.000000   \n",
       "mean   1.525054e+04     1.434893     0.009798     0.244311     3.459229   \n",
       "std    4.254457e+04     0.507792     0.098513     0.776298     0.682592   \n",
       "min    6.490000e+02     1.000000     0.000000     0.000000     1.000000   \n",
       "25%    5.453750e+03     1.000000     0.000000     0.000000     3.000000   \n",
       "50%    8.000000e+03     1.000000     0.000000     0.000000     3.000000   \n",
       "75%    1.122250e+04     2.000000     0.000000     0.000000     4.000000   \n",
       "max    1.651359e+06     3.500000     1.000000     4.000000     5.000000   \n",
       "\n",
       "             grade   sqft_above  sqft_basement     yr_built  yr_renovated  \\\n",
       "count  3164.000000  3164.000000    3164.000000  3164.000000   3164.000000   \n",
       "mean      7.615676  1761.252212     308.775601  1967.489254     94.668774   \n",
       "std       1.166324   815.934864     458.977904    28.095275    424.439427   \n",
       "min       3.000000   380.000000       0.000000  1900.000000      0.000000   \n",
       "25%       7.000000  1190.000000       0.000000  1950.000000      0.000000   \n",
       "50%       7.000000  1545.000000       0.000000  1969.000000      0.000000   \n",
       "75%       8.000000  2150.000000     600.000000  1990.000000      0.000000   \n",
       "max      12.000000  6720.000000    2620.000000  2015.000000   2015.000000   \n",
       "\n",
       "            zipcode          lat         long  sqft_living15     sqft_lot15  \n",
       "count   3164.000000  3164.000000  3164.000000    3164.000000    3164.000000  \n",
       "mean   98077.125158    47.557868  -122.212337    1982.544564   13176.302465  \n",
       "std       54.172937     0.140789     0.139577     686.256670   25413.180755  \n",
       "min    98001.000000    47.177500  -122.514000     620.000000     660.000000  \n",
       "25%    98032.000000    47.459575  -122.324250    1480.000000    5429.500000  \n",
       "50%    98059.000000    47.572500  -122.226000    1830.000000    7873.000000  \n",
       "75%    98117.000000    47.680250  -122.124000    2360.000000   10408.250000  \n",
       "max    98199.000000    47.777600  -121.315000    5790.000000  425581.000000  "
      ]
     },
     "execution_count": 179,
     "metadata": {},
     "output_type": "execute_result"
    }
   ],
   "source": [
    "#load the data\n",
    "df = pd.read_csv('kc_house_data.csv', sep = ',')\n",
    "\n",
    "#remove the data samples with missing values (NaN)\n",
    "df = df.dropna() \n",
    "\n",
    "df.describe()"
   ]
  },
  {
   "cell_type": "markdown",
   "metadata": {},
   "source": [
    "Extract input and output data. We want to predict the price by using othr features (other than id) as input."
   ]
  },
  {
   "cell_type": "code",
   "execution_count": 180,
   "metadata": {
    "collapsed": false
   },
   "outputs": [],
   "source": [
    "Data = df.values\n",
    "#N = number of input samples\n",
    "N = 3164\n",
    "Y = Data[:N,2]\n",
    "X = Data[:N,3:]"
   ]
  },
  {
   "cell_type": "markdown",
   "metadata": {},
   "source": [
    "## Data Pre-Processing\n",
    "\n",
    "Split the data into training a training set of $N_{tr}$ samples and a test set of $N_{te}:=N-N_{tr}$ samples."
   ]
  },
  {
   "cell_type": "code",
   "execution_count": 181,
   "metadata": {
    "collapsed": false
   },
   "outputs": [],
   "source": [
    "# Split data into train (50 samples) and test data (the rest)\n",
    "Ntr = 50\n",
    "Nte = N - Ntr\n",
    "from sklearn.cross_validation import train_test_split\n",
    "\n",
    "#PUT YOUR NUMERO DI MATRICOLA BELOW!\n",
    "numero_di_matricola = 1067494\n",
    "\n",
    "Xtr, Xte, Ytr, Yte = train_test_split(X, Y, test_size=Nte/N, random_state=numero_di_matricola)\n"
   ]
  },
  {
   "cell_type": "markdown",
   "metadata": {},
   "source": [
    "Standardize the data."
   ]
  },
  {
   "cell_type": "code",
   "execution_count": 182,
   "metadata": {
    "collapsed": false
   },
   "outputs": [
    {
     "name": "stderr",
     "output_type": "stream",
     "text": [
      "C:\\Program Files\\Anaconda2\\lib\\site-packages\\sklearn\\utils\\validation.py:420: DataConversionWarning: Data with input dtype object was converted to float64 by StandardScaler.\n",
      "  warnings.warn(msg, DataConversionWarning)\n",
      "C:\\Program Files\\Anaconda2\\lib\\site-packages\\sklearn\\utils\\validation.py:420: DataConversionWarning: Data with input dtype object was converted to float64 by StandardScaler.\n",
      "  warnings.warn(msg, DataConversionWarning)\n",
      "C:\\Program Files\\Anaconda2\\lib\\site-packages\\sklearn\\utils\\validation.py:420: DataConversionWarning: Data with input dtype object was converted to float64 by StandardScaler.\n",
      "  warnings.warn(msg, DataConversionWarning)\n"
     ]
    }
   ],
   "source": [
    "# Data pre-processing\n",
    "from sklearn import preprocessing\n",
    "scaler = preprocessing.StandardScaler().fit(Xtr)\n",
    "Xtr = scaler.transform(Xtr)\n",
    "Xte = scaler.transform(Xte)"
   ]
  },
  {
   "cell_type": "markdown",
   "metadata": {},
   "source": [
    "## Least-Squares Solution\n",
    "\n",
    "The routine LinearRegression.score(X,y) computes the *Coefficient of determination* $R^2$, defined as:\n",
    "\n",
    "$$R^2 = 1- \\frac{RSS}{TSS}$$\n",
    "\n",
    "where $RSS$ is the *Residual Sum of Squares* and $TSS$ is the *Total Sum of Square*. Denoting with $\\hat{y}_i$ the $i$-th predicted output values, they are so defined:\n",
    "\n",
    "\\begin{align*}\n",
    "RSS &= \\sum_{i=1}^N (y_i - \\hat{y}_i)^2\\\\\n",
    "TSS &= \\sum_{i=1}^N (y_i -\\bar{y}_i)^2, \\qquad \\qquad \\bar{y}_i=\\frac{1}{N} \\sum_{i=1}^N y_i\n",
    "\\end{align*}\n",
    "\n",
    "In this notebook we will mostly use the coefficient of determination $R^2$ (instead of the RSS) as a measure to compare models and choose tuning parameters."
   ]
  },
  {
   "cell_type": "markdown",
   "metadata": {},
   "source": [
    "### TODO 1\n",
    "\n",
    "Answer the following: are we interested in models with low $R^2$ or high $R^2$? Why? (max 5 lines)\n",
    "\n",
    "Now compute the Least-Squares estimate using LinearRegression() in Scikit-learn, and print the corresponding score in training and test data."
   ]
  },
  {
   "cell_type": "markdown",
   "metadata": {},
   "source": [
    "We are interested in models with low RSS wich implies a high R^2 (close to 1)."
   ]
  },
  {
   "cell_type": "code",
   "execution_count": 183,
   "metadata": {
    "collapsed": false
   },
   "outputs": [
    {
     "name": "stdout",
     "output_type": "stream",
     "text": [
      "Coefficient of determination on training data: 0.80923921119\n",
      "Coefficient of determination on test data: 0.197562818172\n"
     ]
    }
   ],
   "source": [
    "# Least-Squares\n",
    "from sklearn import linear_model as lm\n",
    "#OLS is the linear regression model\n",
    "OLS = lm.LinearRegression()\n",
    "\n",
    "#fit the model on training data\n",
    "OLS.fit(Xtr,Ytr)\n",
    "\n",
    "#obtain predictions on training data\n",
    "Yhat_tr = OLS.predict(Xtr)\n",
    "\n",
    "#coefficients from the model\n",
    "b_LS = np.hstack((OLS.intercept_, OLS.coef_))\n",
    "\n",
    "print \"Coefficient of determination on training data:\", OLS.score(Xtr,Ytr)\n",
    "print \"Coefficient of determination on test data:\", OLS.score(Xte, Yte)\n"
   ]
  },
  {
   "cell_type": "markdown",
   "metadata": {},
   "source": [
    "### TODO 2\n",
    "\n",
    "Compute the confidence interval for each coefficient."
   ]
  },
  {
   "cell_type": "code",
   "execution_count": 184,
   "metadata": {
    "collapsed": false
   },
   "outputs": [],
   "source": [
    "# Least-Squares: Confidence Intervals\n",
    "from scipy.stats import t\n",
    "\n",
    "#add the column of all ones for the intercept of the model\n",
    "Xtr_intercept = np.hstack((np.ones((Xtr.shape[0],1)), Xtr))\n",
    "\n",
    "#alpha for confidence intervals\n",
    "alpha = 0.05\n",
    "\n",
    "#quantile from t-student distribution\n",
    "tperc = t.ppf(1-alpha/2, Ntr-Xtr_intercept.shape[1], loc=0, scale=1)\n",
    "OLS.get_params()\n",
    "sigma2 = np.linalg.norm((Ytr-Yhat_tr))**2/(Ntr-Xtr_intercept.shape[1])\n",
    "\n",
    "R = np.dot(Xtr_intercept.transpose(),Xtr_intercept)\n",
    "\n",
    "Ri = np.linalg.pinv(R,1e-15)\n",
    "\n",
    "v = np.sqrt(np.diagonal(Ri).copy())\n",
    "\n",
    "Delta = (sigma2**(1/2))*tperc*v\n",
    "\n",
    "\n",
    "CI = np.transpose(np.vstack((b_LS,b_LS))) + np.transpose(np.vstack((-Delta,+Delta) ))\n"
   ]
  },
  {
   "cell_type": "markdown",
   "metadata": {},
   "source": [
    "Plot the LS coefficients and their confidence interval."
   ]
  },
  {
   "cell_type": "code",
   "execution_count": 185,
   "metadata": {
    "collapsed": false
   },
   "outputs": [
    {
     "data": {
      "image/png": "[encoded data removed]",
      "text/plain": [
       "<matplotlib.figure.Figure at 0xda3f128>"
      ]
     },
     "metadata": {},
     "output_type": "display_data"
    }
   ],
   "source": [
    "# Plot confidence intervals\n",
    "plt.figure(1)\n",
    "plt.plot(b_LS[1:], 'r', marker='o', ms=7.0)\n",
    "plt.plot(CI[1:,0], 'b--')\n",
    "plt.plot(CI[1:,1], 'b--')\n",
    "plt.plot(np.zeros(b_LS.shape[0],), 'k', linewidth=2.0)\n",
    "plt.xlabel('Coefficient Index')\n",
    "plt.ylabel('LS Coefficient')\n",
    "plt.title('Coefficients and Confidence Sets')\n",
    "plt.show()"
   ]
  },
  {
   "cell_type": "markdown",
   "metadata": {},
   "source": [
    "### Question: based on the results above, if you had to choose at most 5 features for a linear regression model, which ones would you choose? Why?\n",
    "\n",
    "### TODO 3\n",
    "I would choose features {2,9,10,12,14} indexed as above. We believe that the found confidence intervals should contain the true value of the linear coefficients 95% of the times. So in this situation I would first choose the features with confidence intervals not containig the origin (indexes 2, 9 and 12) and then look at wich interval is likely to be the first that no longer contain the origin if we gradually increase alpha (indexes 10 and 14). Let's note that the coefficient of index 5 has no confidence interval because $Xtr[:,5]$ is equal to a row of zeroes so from this training set we don't have any clue of what could be the effect on the price of a non-zero value for the variable waterfront. Hopefully the algorithms leads in this case to assign to the correspondent coefficient's Delta the value nan. "
   ]
  },
  {
   "cell_type": "markdown",
   "metadata": {},
   "source": [
    "## Best-Subset Selection\n",
    "\n",
    "Split the training data into a training and validation dataset. For $k$ going from 1 to $n_{sub}=5$:\n",
    "1. Compute the LS estimate using all the possible subsets of $k$ features\n",
    "2. Compute the prediction error on the validation dataset\n",
    "\n",
    "Choose the subset of $k^*$ features giving the lowest validation error.\n"
   ]
  },
  {
   "cell_type": "code",
   "execution_count": 186,
   "metadata": {
    "collapsed": false
   },
   "outputs": [],
   "source": [
    "import itertools\n",
    "Xtr_cv, Xva_cv, Ytr_cv, Yva_cv = train_test_split(Xtr, Ytr, test_size=0.33, random_state=78948616)# I defined random_state here to keep a fixed solution over each execution of the code.\n",
    "nsub = 5 # Xtr.shape[1]\n",
    "features_idx_dict = {}\n",
    "validation_err_dict = {}\n",
    "validation_err_min = np.zeros(nsub,)\n",
    "validation_err_min_idx = np.zeros(nsub, dtype=np.int64)\n",
    "for k in range(1,nsub+1):\n",
    "    features_idx = list(itertools.combinations(range(Xtr.shape[1]),k))\n",
    "    validation_error = np.zeros(len(features_idx),)\n",
    "    for j in range(len(features_idx)):\n",
    "        OLS_subset = lm.LinearRegression()\n",
    "        OLS_subset.fit(Xtr_cv[:,features_idx[j]], Ytr_cv)\n",
    "        validation_error[j] = 1 - OLS_subset.score(Xva_cv[:,features_idx[j]], Yva_cv)\n",
    "    validation_err_min[k-1] = np.min(validation_error)    \n",
    "    validation_err_min_idx[k-1] = np.argmin(validation_error)\n",
    "    features_idx_dict.update({k: features_idx})\n",
    "    validation_err_dict.update({k: validation_error})"
   ]
  },
  {
   "cell_type": "markdown",
   "metadata": {},
   "source": [
    "Plot the validation error as a function of the number of retained features."
   ]
  },
  {
   "cell_type": "code",
   "execution_count": 187,
   "metadata": {
    "collapsed": false
   },
   "outputs": [
    {
     "data": {
      "image/png": "[encoded data removed]",
      "text/plain": [
       "<matplotlib.figure.Figure at 0xef7cc50>"
      ]
     },
     "metadata": {},
     "output_type": "display_data"
    }
   ],
   "source": [
    "# Plot\n",
    "plt.figure(2)\n",
    "for k in range(1,nsub+1):\n",
    "    plt.scatter(k*np.ones(validation_err_dict[k].shape), validation_err_dict[k], color='k', alpha=0.5)\n",
    "    #plt.scatter(k, validation_err_min[k-1], color='r', alpha=0.8)\n",
    "    if k > 1:\n",
    "        plt.plot([k-1, k], [validation_err_min[k-2], validation_err_min[k-1]], color='r',marker='o', \n",
    "            markeredgecolor='k', markerfacecolor = 'r', markersize = 10)\n",
    "plt.xlabel('Number of retained features')\n",
    "plt.ylabel('RSS/TSS')\n",
    "plt.title('Best-Subset Selection')\n",
    "plt.show()"
   ]
  },
  {
   "cell_type": "markdown",
   "metadata": {},
   "source": [
    "Compute the LS estimate using the selected subset of features."
   ]
  },
  {
   "cell_type": "markdown",
   "metadata": {},
   "source": [
    "### TODO 4: pick the number of features for the best subset according to figure above, learn the model on the entire training data, and compute score on training and on test data"
   ]
  },
  {
   "cell_type": "code",
   "execution_count": 188,
   "metadata": {
    "collapsed": false
   },
   "outputs": [
    {
     "name": "stdout",
     "output_type": "stream",
     "text": [
      "(7, 12, 14, 15, 16)\n",
      "Coefficient of determination on training data: 0.616211833918\n",
      "Coefficient of determination on test data: 0.301530965915\n"
     ]
    }
   ],
   "source": [
    "OLS_best_subset = lm.LinearRegression()\n",
    "\n",
    "# now pick the number of features according to best subset\n",
    "opt_num_features = 5\n",
    "\n",
    "#opt_features_idx contains the indices of the features from best subset\n",
    "opt_features_idx = features_idx_dict[opt_num_features][validation_err_min_idx[opt_num_features - 1]]\n",
    "\n",
    "#let's print the indices of the features from best subset\n",
    "print opt_features_idx\n",
    "\n",
    "#fit the best subset on the entire training set\n",
    "OLS_best_subset.fit(Xtr[:,opt_features_idx], Ytr)\n",
    "\n",
    "#print the coefficient of determination on training and on test data\n",
    "print \"Coefficient of determination on training data:\", OLS_best_subset.score(Xtr[:,opt_features_idx],Ytr)\n",
    "print \"Coefficient of determination on test data:\", OLS_best_subset.score(Xte[:,opt_features_idx],Yte)"
   ]
  },
  {
   "cell_type": "markdown",
   "metadata": {},
   "source": [
    "### TODO 5: do the features from best subset selection correspond to the ones you would have chosen based on confidence intervals for the linear regression coefficients? Comment (max 5 lines)"
   ]
  },
  {
   "cell_type": "markdown",
   "metadata": {},
   "source": [
    "Only some features correspond to the ones previously chosen, this due to several motivations. First, only a part of the training set has been used to fit the model in BSS, leading to different (probably less acurate) values of the coefficients (modifying thus their distance to the origin). This is accentuated by the fact that by choosing only a subset of the features, the contribution to Y of the missing features tends to be distributed among the others. But the main point is that BSS is based on the acuracy of a certain subset to predict outputs for previously unseen inputs while null hypothesis testing is only based on coefficients values fitted over training set and their variance. Finally, even a feature with a little coefficient is important if a true linear correlation exist with the output."
   ]
  },
  {
   "cell_type": "markdown",
   "metadata": {},
   "source": [
    "## Ridge Regression\n",
    "\n",
    "### TODO 6: Shrinkage Evaluation\n",
    "\n",
    "Compute the ridge regression coefficients on the training data (write the formula manually) using different values of the regularization parameter $\\lambda$.\n"
   ]
  },
  {
   "cell_type": "code",
   "execution_count": 189,
   "metadata": {
    "collapsed": true
   },
   "outputs": [],
   "source": [
    "#these are the values of lambda that you are going to use\n",
    "lam_values = np.logspace(0, 4, 300)\n",
    "\n",
    "\n",
    "#ridge_coeff will contain the solutions; note that we include \\beta_0 in the model\n",
    "ridge_coeff = np.zeros((Xtr_intercept.shape[1], len(lam_values)))\n",
    "\n",
    "#norm will contain the norm of the solutions\n",
    "norm_ridge_coeff = np.zeros(len(lam_values),)\n",
    "\n",
    "\n",
    "for i in range(len(lam_values)):\n",
    "    ridge_coeff[:,i] = np.dot(np.dot(np.linalg.pinv(R-lam_values[i]*np.identity(Xtr_intercept.shape[1])),Xtr_intercept.transpose()),Ytr)\n",
    "    norm_ridge_coeff[i] = np.linalg.norm(ridge_coeff[:,i])\n",
    "    \n"
   ]
  },
  {
   "cell_type": "markdown",
   "metadata": {},
   "source": [
    "Plot the norm of the estimated coefficient vector vs the regularization parameter $\\lambda$. In this way you will be able to evaluate the coefficients shrinkage achieved through ridge regression."
   ]
  },
  {
   "cell_type": "markdown",
   "metadata": {},
   "source": [
    "\n"
   ]
  },
  {
   "cell_type": "code",
   "execution_count": 190,
   "metadata": {
    "collapsed": false
   },
   "outputs": [
    {
     "data": {
      "image/png": "[encoded data removed]",
      "text/plain": [
       "<matplotlib.figure.Figure at 0xe1a0f28>"
      ]
     },
     "metadata": {},
     "output_type": "display_data"
    }
   ],
   "source": [
    "plt.figure(3)\n",
    "plt.xscale('log')\n",
    "plt.yscale('log') #code line added in order to make visible the trend of the curve\n",
    "plt.plot(lam_values, norm_ridge_coeff/Xtr_intercept.shape[1])\n",
    "plt.xlabel('Lambda')\n",
    "plt.ylabel('Coefficients norm')\n",
    "plt.title('Average norm of the Ridge Regression coefficients vs Regularization Parameter')\n",
    "plt.show()"
   ]
  },
  {
   "cell_type": "markdown",
   "metadata": {},
   "source": [
    "### TODO 7: explain the results shown in the figure above (max 5 lines)"
   ]
  },
  {
   "cell_type": "markdown",
   "metadata": {},
   "source": [
    "The figure above shows that the norm of the coefficients has first an irregular transient with some high peaks but then, when $\\lambda$ surpass 120, it becomes monotonically decreasing and seems to definitely converge to zero. This could be expected as $\\lambda$ is the weight of the penalty due to the coefficients norm in the minimization problem. "
   ]
  },
  {
   "cell_type": "markdown",
   "metadata": {},
   "source": [
    "### TODO 8: Use k-fold Cross-Validation to fix the regularization parameter\n",
    "\n",
    "Use the scikit-learn built-in routine *Ridge* (from the *linear_regression* package) to compute the ridge regression coefficients.\n",
    "\n",
    "Use *KFold* from *sklearn.cross_validation* to split the data into the desired number of folds.\n",
    "\n",
    "Then pick $lam\\_opt$ to be the chosen value for the regularization parameter."
   ]
  },
  {
   "cell_type": "code",
   "execution_count": 191,
   "metadata": {
    "collapsed": false
   },
   "outputs": [
    {
     "name": "stdout",
     "output_type": "stream",
     "text": [
      "Best value of the regularization parameter: 65.9778247954\n"
     ]
    }
   ],
   "source": [
    "from sklearn.cross_validation import KFold\n",
    "num_folds = 5\n",
    "kf = KFold(n=Ntr, n_folds=num_folds)\n",
    "\n",
    "#loss_ridge_kfold will contain the value of the loss\n",
    "loss_ridge_kfold = np.zeros(len(lam_values),)\n",
    "\n",
    "for i in range(len(lam_values)):\n",
    "    \n",
    "    #define a ridge regressor using Ridge() for the i-th value of lam_values\n",
    "    ridge_kfold = lm.Ridge(alpha=lam_values[i])\n",
    "    for train_index, validation_index in kf:\n",
    "        Xtr_kfold, Xva_kfold = Xtr[train_index], Xtr[validation_index]\n",
    "        Ytr_kfold, Yva_kfold = Ytr[train_index], Ytr[validation_index]\n",
    "        \n",
    "        #learn the model using the training data from the k-fold\n",
    "        ridge_kfold.fit(Xtr_kfold, Ytr_kfold)\n",
    "        \n",
    "        #compute the loss using the validation data from the k-fold\n",
    "        loss_ridge_kfold[i] += np.linalg.norm(ridge_kfold.predict(Xva_kfold)-Yva_kfold)\n",
    "\n",
    "loss_ridge_kfold /= Ntr\n",
    "\n",
    "#choose the regularization parameter that minimizes the loss\n",
    "lam_opt = lam_values[np.argmin(loss_ridge_kfold)]\n",
    "print \"Best value of the regularization parameter:\", lam_opt"
   ]
  },
  {
   "cell_type": "markdown",
   "metadata": {},
   "source": [
    "Plot the Cross-Validation estimate of the prediction error as a function of the regularization parameter"
   ]
  },
  {
   "cell_type": "code",
   "execution_count": 192,
   "metadata": {
    "collapsed": false
   },
   "outputs": [
    {
     "data": {
      "image/png": "[encoded data removed]",
      "text/plain": [
       "<matplotlib.figure.Figure at 0xdca9780>"
      ]
     },
     "metadata": {},
     "output_type": "display_data"
    }
   ],
   "source": [
    "plt.figure(4)\n",
    "plt.xscale('log')\n",
    "plt.plot(lam_values, loss_ridge_kfold, color='b')\n",
    "plt.scatter(lam_opt, loss_ridge_kfold[np.argmin(loss_ridge_kfold)], color='b', marker='o', linewidths=5)\n",
    "plt.xlabel('Lambda')\n",
    "plt.ylabel('Validation Error')\n",
    "plt.title('Ridge Regression: choice of regularization parameter')\n",
    "plt.show()"
   ]
  },
  {
   "cell_type": "markdown",
   "metadata": {},
   "source": [
    "### TODO 9: now estimate the ridge regression coefficients using all the training data and the optimal regularization parameter (chosen at previous step)"
   ]
  },
  {
   "cell_type": "code",
   "execution_count": 193,
   "metadata": {
    "collapsed": false
   },
   "outputs": [
    {
     "name": "stdout",
     "output_type": "stream",
     "text": [
      "Coefficient of determination on training data: 0.694546203238\n",
      "Coefficient of determination on test data: 0.515076178397\n"
     ]
    }
   ],
   "source": [
    "# Estimate Ridge Regression Coefficients with all data for the the optimal value lam_opt of the regularization paramter\n",
    "\n",
    "#define the model using the optimal value lam_opt\n",
    "ridge_reg = lm.Ridge(alpha=lam_opt)\n",
    "#fit using the training data\n",
    "ridge_reg.fit(Xtr,Ytr)\n",
    "\n",
    "print \"Coefficient of determination on training data:\", ridge_reg.score(Xtr,Ytr)\n",
    "print \"Coefficient of determination on test data:\", ridge_reg.score(Xte,Yte)"
   ]
  },
  {
   "cell_type": "markdown",
   "metadata": {},
   "source": [
    "Compare the LS and the ridge regression coefficients."
   ]
  },
  {
   "cell_type": "code",
   "execution_count": 194,
   "metadata": {
    "collapsed": false
   },
   "outputs": [
    {
     "data": {
      "image/png": "[encoded data removed]",
      "text/plain": [
       "<matplotlib.figure.Figure at 0xe397fd0>"
      ]
     },
     "metadata": {},
     "output_type": "display_data"
    }
   ],
   "source": [
    "# Compare LS and ridge coefficients\n",
    "ind = np.arange(1,len(OLS.coef_)+1)  # the x locations for the groups\n",
    "width = 0.35       # the width of the bars\n",
    "fig, ax = plt.subplots()\n",
    "rects1 = ax.bar(ind, OLS.coef_, width, color='r')\n",
    "rects2 = ax.bar(ind + width, ridge_reg.coef_, width, color='y')\n",
    "ax.legend((rects1[0], rects2[0]), ('LS', 'Ridge'))\n",
    "plt.xlabel('Coefficient Idx')\n",
    "plt.ylabel('Coefficient Value')\n",
    "plt.title('LS and Ridge Coefficient')\n",
    "plt.show()"
   ]
  },
  {
   "cell_type": "markdown",
   "metadata": {},
   "source": [
    "### TODO 10: comment on the comparison among the LS and Ridge Regression coefficients (max 5 lines)\n"
   ]
  },
  {
   "cell_type": "markdown",
   "metadata": {},
   "source": [
    "First of all, let's state that Ridge Regression's coefficient of determination on test data is quite closer to 1 than the LS and BSS ones (0.5 vs 0.2 and 0.3). Now, regarding the features's linear coefficients, the bar plot hereinabove confirm the expected general tendency : the norm of the coefficients is reduced in Ridge Regression. We can also note that many LS coefficients have a different sign than their corresponding Ridge coefficients. Only two coefficients (one of which is null) are the same in both. It's difficult to say more about the relations between the two, especially as it may just be coincidences."
   ]
  },
  {
   "cell_type": "markdown",
   "metadata": {},
   "source": [
    "## Lasso\n",
    "\n",
    "Use the routine *lasso_path* from *sklearn.linear_regression* to compute the \"lasso path\" for different values of the regularization parameter $\\lambda$. \n"
   ]
  },
  {
   "cell_type": "code",
   "execution_count": 195,
   "metadata": {
    "collapsed": true
   },
   "outputs": [],
   "source": [
    "from sklearn.linear_model import lasso_path\n",
    "\n",
    "# To pass a specific range of lambda values\n",
    "#lasso_lams, lasso_coefs, _ = lasso_path(Xtr, Ytr, alphas=lam_values)  \n",
    "\n",
    "# If no value is passed, the routine automatically select a range of values \n",
    "lasso_lams, lasso_coefs, _ = lasso_path(Xtr, Ytr) \n",
    "\n"
   ]
  },
  {
   "cell_type": "markdown",
   "metadata": {},
   "source": [
    "Evaluate the sparsity in the estimated coefficients as a function of the regularization parameter $\\lambda$: to this purpose, compute the number of non-zero entries in the estimated coefficient vector."
   ]
  },
  {
   "cell_type": "code",
   "execution_count": 196,
   "metadata": {
    "collapsed": false
   },
   "outputs": [
    {
     "data": {
      "image/png": "[encoded data removed]",
      "text/plain": [
       "<matplotlib.figure.Figure at 0xedc6550>"
      ]
     },
     "metadata": {},
     "output_type": "display_data"
    }
   ],
   "source": [
    "l0_coef_norm = np.zeros(len(lasso_lams),)\n",
    "\n",
    "for i in range(len(lasso_lams)):\n",
    "    l0_coef_norm[i] = sum(lasso_coefs[:,i]!=0)\n",
    "\n",
    "plt.figure(6)\n",
    "plt.plot(lasso_lams, l0_coef_norm, marker='o', markersize=5)\n",
    "\n",
    "plt.xlabel('Lambda')\n",
    "plt.ylabel('Number of non-zero coefficients')\n",
    "plt.title('Sparsity Degree')\n",
    "plt.show()"
   ]
  },
  {
   "cell_type": "markdown",
   "metadata": {},
   "source": [
    "### TODO 11: explain the results in the figure above (max 5 lines)"
   ]
  },
  {
   "cell_type": "markdown",
   "metadata": {
    "collapsed": true
   },
   "source": [
    "In Lassso we put a bound to the L-1 norm of $\\beta$, wich is eauivalent to minimise a function where this number apears as penalty multiplyed by a factor $\\lambda$, the bound become more strict as $\\lambda$ increases starting from 0. Equivalently we can think to the shrinkage factor, wich starting from 1, tend to 0. As we know during this process the Lasso coefficients's modules will decrease until each one successively reach and stay fixed at zero, this is why we obtain a sort of descending staircase function. Turn the next cell from Markdown to Code and run it to see a plot of the process previously explained."
   ]
  },
  {
   "cell_type": "markdown",
   "metadata": {},
   "source": [
    "plt.figure(62)\n",
    "plt.xscale('log')\n",
    "for i in range(lasso_coefs.shape[0]):\n",
    "    index= str(i)\n",
    "    plt.plot(lasso_lams, lasso_coefs[i,:], marker='o', markersize=2, label= index)\n",
    "plt.legend(bbox_to_anchor=(1.05, 1), loc=2, borderaxespad=0.)\n",
    "\n",
    "plt.xlabel('Lambda')\n",
    "plt.ylabel('Number of non-zero coefficients')\n",
    "plt.title('Sparsity Degree')\n",
    "plt.show()"
   ]
  },
  {
   "cell_type": "markdown",
   "metadata": {},
   "source": [
    "### TODO 12: Use k-fold Cross-Validation to fix the regularization parameter\n",
    "\n",
    "Use the routine *LassoCV* from the package *sklearn.linear_regression* to fix the regularization parameter $\\lambda$ throug k-fold cross-validation."
   ]
  },
  {
   "cell_type": "code",
   "execution_count": 197,
   "metadata": {
    "collapsed": false
   },
   "outputs": [
    {
     "name": "stdout",
     "output_type": "stream",
     "text": [
      "Total number of coefficients: 18\n",
      "Number of non-zero coefficients: 4\n",
      "Best value of regularization parameter: 55580.7260684\n"
     ]
    }
   ],
   "source": [
    "# use LassoCV passing num_folds for the number of folds in CV\n",
    "lasso_kfold = lm.LassoCV(cv=num_folds)\n",
    "\n",
    "#fit using the training set\n",
    "lasso_kfold.fit(Xtr,Ytr)\n",
    "\n",
    "print \"Total number of coefficients:\", len(lasso_kfold.coef_)\n",
    "print \"Number of non-zero coefficients:\", sum(lasso_kfold.coef_ != 0)\n",
    "print \"Best value of regularization parameter:\", lasso_kfold.alpha_\n",
    "loss_lasso_kfold = np.sum(lasso_kfold.mse_path_, axis=1)\n"
   ]
  },
  {
   "cell_type": "markdown",
   "metadata": {},
   "source": [
    "### TODO 13: Plot the Cross-Validation estimate of the prediction error  as a function of the regularization parameter $\\lambda$"
   ]
  },
  {
   "cell_type": "code",
   "execution_count": 198,
   "metadata": {
    "collapsed": false
   },
   "outputs": [
    {
     "data": {
      "image/png": "[encoded data removed]",
      "text/plain": [
       "<matplotlib.figure.Figure at 0x9846da0>"
      ]
     },
     "metadata": {},
     "output_type": "display_data"
    }
   ],
   "source": [
    "plt.figure(7)\n",
    "plt.xscale('log')\n",
    "\n",
    "#plot the lasso k-fold loss as a function of the lasso_kfold.alphas_\n",
    "plt.plot(lasso_lams, loss_lasso_kfold,color='b')\n",
    "\n",
    "\n",
    "#this plots the best value of the regularization parameter\n",
    "plt.scatter(lasso_kfold.alpha_, loss_lasso_kfold[np.where(lasso_kfold.alphas_ == lasso_kfold.alpha_)], \n",
    "    color='b', marker='o', linewidths=5)\n",
    "plt.xlabel('Lambda')\n",
    "plt.ylabel('Validation Error')\n",
    "plt.title('Lasso: choice of regularization parameter')\n",
    "plt.show()"
   ]
  },
  {
   "cell_type": "markdown",
   "metadata": {},
   "source": [
    "### TODO 14: describe the results in the figure above and its relation to the best lambda chosen by CV"
   ]
  },
  {
   "cell_type": "markdown",
   "metadata": {},
   "source": [
    "We can see that the best value of regularization parameter has been choosen in order to minimize the Cross-Validation estimate of the prediction error over the range of lamdas."
   ]
  },
  {
   "cell_type": "markdown",
   "metadata": {},
   "source": [
    "### TODO 15: Now estimate the LASSO regression coefficients using all the training data and the optimal regularization parameter (chosen through k-fold cross-validation).\n",
    "\n",
    "Use the routine *lasso* from *sklearn.linear_regression* to do it.\n"
   ]
  },
  {
   "cell_type": "code",
   "execution_count": 199,
   "metadata": {
    "collapsed": false
   },
   "outputs": [
    {
     "name": "stdout",
     "output_type": "stream",
     "text": [
      "Coefficient of determination on training data: 0.736317986276\n",
      "Coefficient of determination on test data: 0.476664901115\n"
     ]
    }
   ],
   "source": [
    "#define a lasso model with Lasso() using the best value of the regularization parameter\n",
    "lasso_reg =  lm.Lasso(alpha=lasso_kfold.alpha_)\n",
    "#fit the model using the entire training set\n",
    "lasso_reg.fit(Xtr,Ytr)\n",
    "\n",
    "print \"Coefficient of determination on training data:\", lasso_reg.score(Xtr,Ytr)\n",
    "print \"Coefficient of determination on test data:\", lasso_reg.score(Xte,Yte)"
   ]
  },
  {
   "cell_type": "markdown",
   "metadata": {},
   "source": [
    "## Compare LS, Ridge and Lasso coefficients\n",
    "\n",
    "Use a bar plot to compare the estimated coefficients by means of these three estimators."
   ]
  },
  {
   "cell_type": "code",
   "execution_count": 200,
   "metadata": {
    "collapsed": false
   },
   "outputs": [
    {
     "data": {
      "image/png": "[encoded data removed]",
      "text/plain": [
       "<matplotlib.figure.Figure at 0xed25b70>"
      ]
     },
     "metadata": {},
     "output_type": "display_data"
    }
   ],
   "source": [
    "ind = np.arange(1,len(OLS.coef_)+1)  # the x locations for the groups\n",
    "width = 0.25       # the width of the bars\n",
    "fig, ax = plt.subplots()\n",
    "rects1 = ax.bar(ind, OLS.coef_, width, color='r')\n",
    "rects2 = ax.bar(ind + width, ridge_reg.coef_, width, color='y')\n",
    "rects3 = ax.bar(ind + 2*width, lasso_reg.coef_, width, color='g')\n",
    "ax.legend((rects1[0], rects2[0], rects3[0]), ('LS', 'Ridge', 'Lasso'))\n",
    "plt.xlabel('Coefficient Idx')\n",
    "plt.ylabel('Coefficient Value')\n",
    "plt.title('LS, Ridge and Lasso Coefficient')\n",
    "plt.show()"
   ]
  },
  {
   "cell_type": "markdown",
   "metadata": {},
   "source": [
    "### TODO 16: how do coefficient from the Lasso model compare to LS and Ridge Regression? (max 5 lines)\n",
    "First, only 4 coefficients from the Lasso and model are not null, in this case they are a subset of the Ridge coefficients with higher values. The little number of coefficients could be useful to speed up calculations. Let's also point out that the Lasso coefficients are thoose wich absolute value vary in the wider range : we can interpret this by reminding us that the bound is on the L-1 norm of the vector and not in the single coefficients absolute values."
   ]
  },
  {
   "cell_type": "markdown",
   "metadata": {},
   "source": [
    "## Evaluate the performance on the test set\n",
    "\n"
   ]
  },
  {
   "cell_type": "code",
   "execution_count": 201,
   "metadata": {
    "collapsed": false
   },
   "outputs": [
    {
     "name": "stdout",
     "output_type": "stream",
     "text": [
      "Coefficient of determination of LS on test data: 0.197562818172\n",
      "Coefficient of determination of LS (with subset selection) on test data: 0.301530965915\n",
      "Coefficient of determination of Ridge Regression on test data: 0.515076178397\n",
      "Coefficient of determination of LASSO on test data: 0.476664901115\n"
     ]
    }
   ],
   "source": [
    "print \"Coefficient of determination of LS on test data:\", OLS.score(Xte,Yte)\n",
    "print \"Coefficient of determination of LS (with subset selection) on test data:\", OLS_best_subset.score(Xte[:,opt_features_idx],Yte)\n",
    "print \"Coefficient of determination of Ridge Regression on test data:\", ridge_reg.score(Xte,Yte)\n",
    "print \"Coefficient of determination of LASSO on test data:\", lasso_reg.score(Xte,Yte)"
   ]
  },
  {
   "cell_type": "markdown",
   "metadata": {},
   "source": [
    "### TODO 17: comment and compare the results obtained by the different methods (max 10 lines)\n",
    "We are interested in the performances on the test set as they represent data previously \"unseen\" by the model and thus offer a good estimate of error in future predictions. Least squares has the worst $R^2$ (around 0.2), we know that this is due to bias-variance decomposition of the expected generalisation error, by allowing too much degrees of freedom for $\\beta$ we get a high variance of our estimate wich depends on models/hypothesis set and the model is overfitted. In order to find a better bias–variance tradeoff we use the three next regression methods. Putting a bound on the number of coefficients is simplest method but with LS subset selection the $R^2$ increases of only one decimal point. Instead by putting a bound on L-2 (Ridge) or L-1 (Lasso) norm of $\\beta$, that is considering a continuous approach on the limitation of the degrees of freedom of the model, we obtain better results : $R^2$ is slightly over and under 0.5 for, respectively, Ridge Regression and LASSO."
   ]
  },
  {
   "cell_type": "markdown",
   "metadata": {},
   "source": [
    "### TODO 18: use different data size\n",
    "\n",
    "Perform the same estimation procedures using different more points on the training data, that is fix Ntr = 100. You can simply copy and paste the code above into the cell below."
   ]
  },
  {
   "cell_type": "code",
   "execution_count": 202,
   "metadata": {
    "collapsed": false
   },
   "outputs": [
    {
     "name": "stderr",
     "output_type": "stream",
     "text": [
      "C:\\Program Files\\Anaconda2\\lib\\site-packages\\sklearn\\utils\\validation.py:420: DataConversionWarning: Data with input dtype object was converted to float64 by StandardScaler.\n",
      "  warnings.warn(msg, DataConversionWarning)\n",
      "C:\\Program Files\\Anaconda2\\lib\\site-packages\\sklearn\\utils\\validation.py:420: DataConversionWarning: Data with input dtype object was converted to float64 by StandardScaler.\n",
      "  warnings.warn(msg, DataConversionWarning)\n",
      "C:\\Program Files\\Anaconda2\\lib\\site-packages\\sklearn\\utils\\validation.py:420: DataConversionWarning: Data with input dtype object was converted to float64 by StandardScaler.\n",
      "  warnings.warn(msg, DataConversionWarning)\n"
     ]
    },
    {
     "name": "stdout",
     "output_type": "stream",
     "text": [
      "Note : it has been graphically verified that even with Ntr=100 we have opt_num_features = 5 for Best Subset Selection\n",
      "Number of non-zero coefficients in LASSO : 12\n"
     ]
    },
    {
     "data": {
      "image/png": "[encoded data removed]",
      "text/plain": [
       "<matplotlib.figure.Figure at 0xdcb5a90>"
      ]
     },
     "metadata": {},
     "output_type": "display_data"
    },
    {
     "name": "stdout",
     "output_type": "stream",
     "text": [
      "Coefficient of determination of LS on test data: 0.671488304135\n",
      "Coefficient of determination of LS (with subset selection) on test data: 0.547005935314\n",
      "Coefficient of determination of Ridge Regression on test data: 0.629962923993\n",
      "Coefficient of determination of LASSO on test data: 0.671040498861\n"
     ]
    }
   ],
   "source": [
    "#put in this cell the code to do the same analysis as before but with Ntr=100\n",
    "\n",
    "# Split data into train (50 samples) and test data (the rest)\n",
    "Ntr = 100\n",
    "Nte = N - Ntr\n",
    "from sklearn.cross_validation import train_test_split\n",
    "\n",
    "#PUT YOUR NUMERO DI MATRICOLA BELOW!\n",
    "numero_di_matricola = 1067494\n",
    "\n",
    "Xtr, Xte, Ytr, Yte = train_test_split(X, Y, test_size=Nte/N, random_state=numero_di_matricola)\n",
    "\n",
    "# Data pre-processing\n",
    "from sklearn import preprocessing\n",
    "scaler = preprocessing.StandardScaler().fit(Xtr)\n",
    "Xtr = scaler.transform(Xtr)\n",
    "Xte = scaler.transform(Xte)\n",
    "\n",
    "# Least-Squares\n",
    "from sklearn import linear_model as lm\n",
    "#OLS is the linear regression model\n",
    "OLS = lm.LinearRegression()\n",
    "\n",
    "#fit the model on training data\n",
    "OLS.fit(Xtr,Ytr)\n",
    "\n",
    "#obtain predictions on training data\n",
    "Yhat_tr = OLS.predict(Xtr)\n",
    "\n",
    "#coefficients from the model\n",
    "b_LS = np.hstack((OLS.intercept_, OLS.coef_))\n",
    "\n",
    "Xtr_intercept = np.hstack((np.ones((Xtr.shape[0],1)), Xtr))\n",
    "\n",
    "\n",
    "OLS.get_params()\n",
    "sigma2 = np.linalg.norm((Ytr-Yhat_tr))**2/(Ntr-Xtr_intercept.shape[1])\n",
    "\n",
    "R = np.dot(Xtr_intercept.transpose(),Xtr_intercept)\n",
    "\n",
    "Ri = np.linalg.pinv(R,1e-15)\n",
    "\n",
    "v = np.sqrt(np.diagonal(Ri).copy())\n",
    "\n",
    "import itertools\n",
    "Xtr_cv, Xva_cv, Ytr_cv, Yva_cv = train_test_split(Xtr, Ytr, test_size=0.33, random_state=78948616)# I defined random_state here to keep a fixed solution over each execution of the code.\n",
    "nsub = 5 # Xtr.shape[1]\n",
    "features_idx_dict = {}\n",
    "validation_err_dict = {}\n",
    "validation_err_min = np.zeros(nsub,)\n",
    "validation_err_min_idx = np.zeros(nsub, dtype=np.int64)\n",
    "for k in range(1,nsub+1):\n",
    "    features_idx = list(itertools.combinations(range(Xtr.shape[1]),k))\n",
    "    validation_error = np.zeros(len(features_idx),)\n",
    "    for j in range(len(features_idx)):\n",
    "        OLS_subset = lm.LinearRegression()\n",
    "        OLS_subset.fit(Xtr_cv[:,features_idx[j]], Ytr_cv)\n",
    "        validation_error[j] = 1 - OLS_subset.score(Xva_cv[:,features_idx[j]], Yva_cv)\n",
    "    validation_err_min[k-1] = np.min(validation_error)    \n",
    "    validation_err_min_idx[k-1] = np.argmin(validation_error)\n",
    "    features_idx_dict.update({k: features_idx})\n",
    "    validation_err_dict.update({k: validation_error})\n",
    "\n",
    "OLS_best_subset = lm.LinearRegression()\n",
    "\n",
    "print \"Note : it has been graphically verified that even with Ntr=100 we have opt_num_features = 5 for Best Subset Selection\"\n",
    "# now pick the number of features according to best subset\n",
    "opt_num_features = 5\n",
    "\n",
    "#opt_features_idx contains the indices of the features from best subset\n",
    "opt_features_idx = features_idx_dict[opt_num_features][validation_err_min_idx[opt_num_features - 1]]\n",
    "\n",
    "\n",
    "#fit the best subset on the entire training set\n",
    "OLS_best_subset.fit(Xtr[:,opt_features_idx], Ytr)\n",
    "\n",
    "#these are the values of lambda that you are going to use\n",
    "lam_values = np.logspace(0, 4, 300)\n",
    "\n",
    "\n",
    "#ridge_coeff will contain the solutions; note that we include \\beta_0 in the model\n",
    "ridge_coeff = np.zeros((Xtr_intercept.shape[1], len(lam_values)))\n",
    "\n",
    "#norm will contain the norm of the solutions\n",
    "norm_ridge_coeff = np.zeros(len(lam_values),)\n",
    "\n",
    "\n",
    "for i in range(len(lam_values)):\n",
    "    ridge_coeff[:,i] = np.dot(np.dot(np.linalg.pinv(R-lam_values[i]*np.identity(Xtr_intercept.shape[1])),Xtr_intercept.transpose()),Ytr)\n",
    "    norm_ridge_coeff[i] = np.linalg.norm(ridge_coeff[:,i])\n",
    "    \n",
    "from sklearn.cross_validation import KFold\n",
    "num_folds = 5\n",
    "kf = KFold(n=Ntr, n_folds=num_folds)\n",
    "\n",
    "#loss_ridge_kfold will contain the value of the loss\n",
    "loss_ridge_kfold = np.zeros(len(lam_values),)\n",
    "\n",
    "for i in range(len(lam_values)):\n",
    "    \n",
    "    #define a ridge regressor using Ridge() for the i-th value of lam_values\n",
    "    ridge_kfold = lm.Ridge(alpha=lam_values[i])\n",
    "    for train_index, validation_index in kf:\n",
    "        Xtr_kfold, Xva_kfold = Xtr[train_index], Xtr[validation_index]\n",
    "        Ytr_kfold, Yva_kfold = Ytr[train_index], Ytr[validation_index]\n",
    "        \n",
    "        #learn the model using the training data from the k-fold\n",
    "        ridge_kfold.fit(Xtr_kfold, Ytr_kfold)\n",
    "        \n",
    "        #compute the loss using the validation data from the k-fold\n",
    "        loss_ridge_kfold[i] += np.linalg.norm(ridge_kfold.predict(Xva_kfold)-Yva_kfold)\n",
    "\n",
    "loss_ridge_kfold /= Ntr\n",
    "\n",
    "#choose the regularization parameter that minimizes the loss\n",
    "lam_opt = lam_values[np.argmin(loss_ridge_kfold)]\n",
    "\n",
    "# Estimate Ridge Regression Coefficients with all data for the the optimal value lam_opt of the regularization paramter\n",
    "\n",
    "#define the model using the optimal value lam_opt\n",
    "ridge_reg = lm.Ridge(alpha=lam_opt)\n",
    "#fit using the training data\n",
    "ridge_reg.fit(Xtr,Ytr)\n",
    "\n",
    "from sklearn.linear_model import lasso_path\n",
    "\n",
    "# To pass a specific range of lambda values\n",
    "#lasso_lams, lasso_coefs, _ = lasso_path(Xtr, Ytr, alphas=lam_values)  \n",
    "\n",
    "# If no value is passed, the routine automatically select a range of values \n",
    "lasso_lams, lasso_coefs, _ = lasso_path(Xtr, Ytr) \n",
    "\n",
    "# use LassoCV passing num_folds for the number of folds in CV\n",
    "lasso_kfold = lm.LassoCV(cv=num_folds)\n",
    "\n",
    "#fit using the training set\n",
    "lasso_kfold.fit(Xtr,Ytr)\n",
    "\n",
    "\n",
    "print \"Number of non-zero coefficients in LASSO :\", sum(lasso_kfold.coef_ != 0)\n",
    "\n",
    "loss_lasso_kfold = np.sum(lasso_kfold.mse_path_, axis=1)\n",
    "\n",
    "#define a lasso model with Lasso() using the best value of the regularization parameter\n",
    "lasso_reg =  lm.Lasso(alpha=lasso_kfold.alpha_)\n",
    "#fit the model using the entire training set\n",
    "lasso_reg.fit(Xtr,Ytr)\n",
    "\n",
    "ind = np.arange(1,len(OLS.coef_)+1)  # the x locations for the groups\n",
    "width = 0.25       # the width of the bars\n",
    "fig, ax = plt.subplots()\n",
    "rects1 = ax.bar(ind, OLS.coef_, width, color='r')\n",
    "rects2 = ax.bar(ind + width, ridge_reg.coef_, width, color='y')\n",
    "rects3 = ax.bar(ind + 2*width, lasso_reg.coef_, width, color='g')\n",
    "ax.legend((rects1[0], rects2[0], rects3[0]), ('LS', 'Ridge', 'Lasso'))\n",
    "plt.xlabel('Coefficient Idx')\n",
    "plt.ylabel('Coefficient Value')\n",
    "plt.title('LS, Ridge and Lasso Coefficient')\n",
    "plt.show()\n",
    "\n",
    "print \"Coefficient of determination of LS on test data:\", OLS.score(Xte,Yte)\n",
    "print \"Coefficient of determination of LS (with subset selection) on test data:\", OLS_best_subset.score(Xte[:,opt_features_idx],Yte)\n",
    "print \"Coefficient of determination of Ridge Regression on test data:\", ridge_reg.score(Xte,Yte)\n",
    "print \"Coefficient of determination of LASSO on test data:\", lasso_reg.score(Xte,Yte)"
   ]
  },
  {
   "cell_type": "markdown",
   "metadata": {},
   "source": [
    "### TODO 19: how do the results change with Ntr=100? (max 10 lines)\n",
    "By doubling the number of training points we obtain a far higher (and then better) $R^2$ for each method. This time the best one is given by LS and then next to it LASSO (around 0.67. The Subset Selection scores nearly 0.55 while Ridge Regression stops at 0.63 thus letting his previous second place to LASSO. How can we explain this ? I believe that the success of LS is due to the fact that the information brought by the new trainig points enable the model to avoid overfitting : there is sufficient data to understand what comes from the noise instead of the underlying relationship between X and Y. Then Lasso obtain quite similar performances with only 12 features, wich leads us to think that the other ones are really unimportants. Ridge obtain good results but can't do as good as LS probably because it is proven to be a biased estimator. Finally Subset Selection is limited to subsets of maximum $n_{sub}=5$ features, probably the best subset would have contained more features wich are now missing and can't bring usefull information for the prediction. By looking at the coefficients we can see that they are often very similar between the different methods, we could think that as $Ntr$ increases the different solutions will converge to a common one."
   ]
  },
  {
   "cell_type": "markdown",
   "metadata": {},
   "source": [
    "# Regularized Classification on Titanic Dataset\n",
    "\n",
    "We are going to use a dataset from a Kaggle competition (https://www.kaggle.com/c/titanic/data)\n",
    " \n",
    "### Dataset description\n",
    "\n",
    ">The sinking of the RMS Titanic is one of the most infamous shipwrecks in history.  On April 15, 1912, during her maiden voyage, the Titanic sank after colliding with an iceberg, killing 1502 out of 2224 passengers and crew.  This sensational tragedy shocked the international community and led to better safety regulations for ships.\n",
    "\n",
    ">One of the reasons that the shipwreck led to such loss of life was that there were not enough lifeboats for the passengers and crew.  Although there was some element of luck involved in surviving the sinking, some groups of people were more likely to survive than others, such as women, children, and the upper-class.\n",
    "\n",
    ">In this contest, we ask you to complete the analysis of what sorts of people were likely to survive. \n",
    "\n",
    "[From the competition [homepage](http://www.kaggle.com/c/titanic-gettingStarted).]\n",
    "\n",
    "\n"
   ]
  },
  {
   "cell_type": "code",
   "execution_count": 203,
   "metadata": {
    "collapsed": true
   },
   "outputs": [],
   "source": [
    "%matplotlib inline  \n",
    "import matplotlib.pyplot as plt"
   ]
  },
  {
   "cell_type": "markdown",
   "metadata": {},
   "source": [
    "Load the data from a .csv file"
   ]
  },
  {
   "cell_type": "code",
   "execution_count": 204,
   "metadata": {
    "collapsed": false
   },
   "outputs": [
    {
     "data": {
      "text/html": [
       "<div>\n",
       "<table border=\"1\" class=\"dataframe\">\n",
       "  <thead>\n",
       "    <tr style=\"text-align: right;\">\n",
       "      <th></th>\n",
       "      <th>PassengerId</th>\n",
       "      <th>Survived</th>\n",
       "      <th>Pclass</th>\n",
       "      <th>Age</th>\n",
       "      <th>SibSp</th>\n",
       "      <th>Parch</th>\n",
       "      <th>Fare</th>\n",
       "    </tr>\n",
       "  </thead>\n",
       "  <tbody>\n",
       "    <tr>\n",
       "      <th>count</th>\n",
       "      <td>712.000000</td>\n",
       "      <td>712.000000</td>\n",
       "      <td>712.000000</td>\n",
       "      <td>712.000000</td>\n",
       "      <td>712.000000</td>\n",
       "      <td>712.000000</td>\n",
       "      <td>712.000000</td>\n",
       "    </tr>\n",
       "    <tr>\n",
       "      <th>mean</th>\n",
       "      <td>448.589888</td>\n",
       "      <td>0.404494</td>\n",
       "      <td>2.240169</td>\n",
       "      <td>29.642093</td>\n",
       "      <td>0.514045</td>\n",
       "      <td>0.432584</td>\n",
       "      <td>34.567251</td>\n",
       "    </tr>\n",
       "    <tr>\n",
       "      <th>std</th>\n",
       "      <td>258.683191</td>\n",
       "      <td>0.491139</td>\n",
       "      <td>0.836854</td>\n",
       "      <td>14.492933</td>\n",
       "      <td>0.930692</td>\n",
       "      <td>0.854181</td>\n",
       "      <td>52.938648</td>\n",
       "    </tr>\n",
       "    <tr>\n",
       "      <th>min</th>\n",
       "      <td>1.000000</td>\n",
       "      <td>0.000000</td>\n",
       "      <td>1.000000</td>\n",
       "      <td>0.420000</td>\n",
       "      <td>0.000000</td>\n",
       "      <td>0.000000</td>\n",
       "      <td>0.000000</td>\n",
       "    </tr>\n",
       "    <tr>\n",
       "      <th>25%</th>\n",
       "      <td>222.750000</td>\n",
       "      <td>0.000000</td>\n",
       "      <td>1.000000</td>\n",
       "      <td>20.000000</td>\n",
       "      <td>0.000000</td>\n",
       "      <td>0.000000</td>\n",
       "      <td>8.050000</td>\n",
       "    </tr>\n",
       "    <tr>\n",
       "      <th>50%</th>\n",
       "      <td>445.000000</td>\n",
       "      <td>0.000000</td>\n",
       "      <td>2.000000</td>\n",
       "      <td>28.000000</td>\n",
       "      <td>0.000000</td>\n",
       "      <td>0.000000</td>\n",
       "      <td>15.645850</td>\n",
       "    </tr>\n",
       "    <tr>\n",
       "      <th>75%</th>\n",
       "      <td>677.250000</td>\n",
       "      <td>1.000000</td>\n",
       "      <td>3.000000</td>\n",
       "      <td>38.000000</td>\n",
       "      <td>1.000000</td>\n",
       "      <td>1.000000</td>\n",
       "      <td>33.000000</td>\n",
       "    </tr>\n",
       "    <tr>\n",
       "      <th>max</th>\n",
       "      <td>891.000000</td>\n",
       "      <td>1.000000</td>\n",
       "      <td>3.000000</td>\n",
       "      <td>80.000000</td>\n",
       "      <td>5.000000</td>\n",
       "      <td>6.000000</td>\n",
       "      <td>512.329200</td>\n",
       "    </tr>\n",
       "  </tbody>\n",
       "</table>\n",
       "</div>"
      ],
      "text/plain": [
       "       PassengerId    Survived      Pclass         Age       SibSp  \\\n",
       "count   712.000000  712.000000  712.000000  712.000000  712.000000   \n",
       "mean    448.589888    0.404494    2.240169   29.642093    0.514045   \n",
       "std     258.683191    0.491139    0.836854   14.492933    0.930692   \n",
       "min       1.000000    0.000000    1.000000    0.420000    0.000000   \n",
       "25%     222.750000    0.000000    1.000000   20.000000    0.000000   \n",
       "50%     445.000000    0.000000    2.000000   28.000000    0.000000   \n",
       "75%     677.250000    1.000000    3.000000   38.000000    1.000000   \n",
       "max     891.000000    1.000000    3.000000   80.000000    5.000000   \n",
       "\n",
       "            Parch        Fare  \n",
       "count  712.000000  712.000000  \n",
       "mean     0.432584   34.567251  \n",
       "std      0.854181   52.938648  \n",
       "min      0.000000    0.000000  \n",
       "25%      0.000000    8.050000  \n",
       "50%      0.000000   15.645850  \n",
       "75%      1.000000   33.000000  \n",
       "max      6.000000  512.329200  "
      ]
     },
     "execution_count": 204,
     "metadata": {},
     "output_type": "execute_result"
    }
   ],
   "source": [
    "from __future__ import division\n",
    "import pandas as pd\n",
    "import numpy as np\n",
    "\n",
    "df = pd.read_csv(\"titanicData.csv\") \n",
    "df = df.drop(['Ticket','Cabin','Name'], axis=1)\n",
    "# Remove missing values\n",
    "df = df.dropna() \n",
    "df.describe()"
   ]
  },
  {
   "cell_type": "markdown",
   "metadata": {},
   "source": [
    "Create data matrices: many of the features (columns of indices 0,1,3,4,6 in Xcat below) are categorical, so we first encode them with integers with LabelEncoder() and then obtain the indicator variables with OneHotEncoder()"
   ]
  },
  {
   "cell_type": "markdown",
   "metadata": {},
   "source": [
    "## Data Preprocessing\n",
    "\n",
    "The class labels are already 0-1, so we can use them directly."
   ]
  },
  {
   "cell_type": "code",
   "execution_count": 223,
   "metadata": {
    "collapsed": false
   },
   "outputs": [],
   "source": [
    "Data = df.values\n",
    "Xcat = Data[:,2:]\n",
    "Y = Data[:,1]\n",
    "n = Xcat.shape[1]  # number of features\n",
    "\n",
    "num_samples = Xcat.shape[0]\n",
    "\n",
    "#now encode categorical variables using integers and one-hot-encoder\n",
    "\n",
    "from sklearn.preprocessing import LabelEncoder, OneHotEncoder\n",
    "label_encoder = LabelEncoder()\n",
    "onehot_encoder = OneHotEncoder()\n",
    "\n",
    "#transform first column in integers; no need to use one hot encoder since it\n",
    "#has only 3 values\n",
    "\n",
    "X = onehot_encoder.fit_transform(Xcat[:,0].reshape(-1,1)).toarray()\n",
    "\n",
    "#repeat for the other categorical input variables\n",
    "ncoef = [3,0,0,0,0,0,0] # added codeline number of coefficients needed for each feature\n",
    "index_categorical = [1,3,4,6]\n",
    "numcoef = 0\n",
    "for i in range(1,7):\n",
    "    if i in index_categorical:\n",
    "        X_tmp = label_encoder.fit_transform(Xcat[:,i])\n",
    "        X_tmp = X_tmp.reshape(X_tmp.shape[0],1)\n",
    "        X_tmp = onehot_encoder.fit_transform(X_tmp[:,0].reshape(-1,1)).toarray()\n",
    "        X = np.hstack((X,X_tmp))\n",
    "        ncoef[i]=X_tmp.shape[1] #added codeline\n",
    "    else:\n",
    "        X_tmp = Xcat[:,i]\n",
    "        X_tmp = X_tmp.reshape(X_tmp.shape[0],1)\n",
    "        X = np.hstack((X,X_tmp))\n",
    "        ncoef[i]= 1 #added codeline"
   ]
  },
  {
   "cell_type": "code",
   "execution_count": 206,
   "metadata": {
    "collapsed": false
   },
   "outputs": [
    {
     "name": "stdout",
     "output_type": "stream",
     "text": [
      "Number of classes: 2\n"
     ]
    }
   ],
   "source": [
    "# Rename the class labels\n",
    "from sklearn.preprocessing import LabelEncoder\n",
    "label_encoder = LabelEncoder()\n",
    "Y = label_encoder.fit_transform(Y)\n",
    "K = max(Y) + 1 # number of classes\n",
    "\n",
    "print \"Number of classes: \"+str(K)"
   ]
  },
  {
   "cell_type": "markdown",
   "metadata": {},
   "source": [
    "Given $N$ total data points, keep $N_{tr}$ data points as data for training and validation and $N_{te}:=N-N_{tr}$ as test data. Splitting is random, use as seed your ``numero di matricola'' (see below)"
   ]
  },
  {
   "cell_type": "code",
   "execution_count": 207,
   "metadata": {
    "collapsed": false
   },
   "outputs": [],
   "source": [
    "# Split data into training and validation data\n",
    "from sklearn.cross_validation import train_test_split\n",
    "N = np.shape(X)[0]\n",
    "\n",
    "#put here your ``numero di matricola''\n",
    "Numero_di_Matricola = 1067494 \n",
    "\n",
    "Ntrain = 50  # use 50 samples for training + validation...\n",
    "Ntest = N-Ntrain # and the rest for testing\n",
    "\n",
    "Xtr, Xtest, Ytr, Ytest = train_test_split(X, Y, test_size=Ntest/N, random_state = Numero_di_Matricola)\n",
    "\n",
    "Ntr = Xtr.shape[0]\n",
    "Ntest = Xtest.shape[0]\n"
   ]
  },
  {
   "cell_type": "markdown",
   "metadata": {},
   "source": [
    "Design matrix is standardized to have zero-mean and unit variance (columnwise):"
   ]
  },
  {
   "cell_type": "code",
   "execution_count": 208,
   "metadata": {
    "collapsed": false
   },
   "outputs": [
    {
     "name": "stderr",
     "output_type": "stream",
     "text": [
      "C:\\Program Files\\Anaconda2\\lib\\site-packages\\sklearn\\utils\\validation.py:420: DataConversionWarning: Data with input dtype object was converted to float64 by StandardScaler.\n",
      "  warnings.warn(msg, DataConversionWarning)\n",
      "C:\\Program Files\\Anaconda2\\lib\\site-packages\\sklearn\\utils\\validation.py:420: DataConversionWarning: Data with input dtype object was converted to float64 by StandardScaler.\n",
      "  warnings.warn(msg, DataConversionWarning)\n",
      "C:\\Program Files\\Anaconda2\\lib\\site-packages\\sklearn\\utils\\validation.py:420: DataConversionWarning: Data with input dtype object was converted to float64 by StandardScaler.\n",
      "  warnings.warn(msg, DataConversionWarning)\n"
     ]
    }
   ],
   "source": [
    "# Standardize the Features Matrix\n",
    "from sklearn import preprocessing\n",
    "scaler = preprocessing.StandardScaler().fit(X)\n",
    "Xtr = scaler.transform(Xtr)\n",
    "Xtest = scaler.transform(Xtest)  # use the same transformation on test data"
   ]
  },
  {
   "cell_type": "markdown",
   "metadata": {},
   "source": [
    "### Perform Logistic Regression\n",
    "\n",
    "We now perform logistic regression using the function provided by Scikit-learn.\n",
    "\n",
    "Note: as provided by Scikit-learn, logistic regression is always implemented using regularization. However, the impact of regularization can be dampened to have almost no regularization by changing the parameter $C$. In particular, using a very high value of $C$ reduces the impact from regularization. ($C$ is the inverse of the regularization parameter $\\lambda$ - see TODO 4.)\n",
    "\n",
    "Note that the intercept is estimated in the model."
   ]
  },
  {
   "cell_type": "code",
   "execution_count": 209,
   "metadata": {
    "collapsed": false
   },
   "outputs": [
    {
     "data": {
      "text/plain": [
       "LogisticRegression(C=100000000, class_weight=None, dual=False,\n",
       "          fit_intercept=True, intercept_scaling=1, max_iter=100,\n",
       "          multi_class='ovr', n_jobs=1, penalty='l2', random_state=None,\n",
       "          solver='newton-cg', tol=0.0001, verbose=0, warm_start=False)"
      ]
     },
     "execution_count": 209,
     "metadata": {},
     "output_type": "execute_result"
    }
   ],
   "source": [
    "from sklearn import linear_model\n",
    "# define a logistic regression model with very high C parameter -> low impact from regularization\n",
    "reg = linear_model.LogisticRegression(C=100000000, solver='newton-cg')\n",
    "\n",
    "#fit the model on training data\n",
    "reg.fit(Xtr, Ytr)"
   ]
  },
  {
   "cell_type": "markdown",
   "metadata": {},
   "source": [
    "Note that the logistic regression function in Scikit-learn has many optional parameters. Read the documentation to understand what they do!"
   ]
  },
  {
   "cell_type": "markdown",
   "metadata": {},
   "source": [
    "## TODO 1\n",
    "### Examine coefficients from Logistic Regression (by print and plotting them)"
   ]
  },
  {
   "cell_type": "code",
   "execution_count": 210,
   "metadata": {
    "collapsed": false
   },
   "outputs": [
    {
     "name": "stdout",
     "output_type": "stream",
     "text": [
      "[[ 1.25201779 -0.37342915 -0.77588061  1.22533153 -1.22533153 -0.03164777\n",
      "   0.16921452 -0.21494585 -1.28222577  1.70938264  0.14792172  0.0772415\n",
      "  -0.34982568  0.77546383 -0.70707244  0.84004774  0.06903809  0.0772415\n",
      "   0.03444614 -0.9963157   0.21137852  0.15733322 -0.27011602]]\n"
     ]
    },
    {
     "data": {
      "image/png": "[encoded data removed]",
      "text/plain": [
       "<matplotlib.figure.Figure at 0xdcb5da0>"
      ]
     },
     "metadata": {},
     "output_type": "display_data"
    }
   ],
   "source": [
    "#print the coefficients from the logistic regression model.\n",
    "print reg.coef_\n",
    "\n",
    "# Plot the coefficients\n",
    "reg_coef = reg.coef_.reshape(reg.coef_.shape[1],)\n",
    "plt.figure()\n",
    "ind = np.arange(1,len(reg_coef)+1)  # the x locations for the groups\n",
    "width = 0.45       # the width of the bars\n",
    "plt.bar(ind, reg_coef, width, color='r')\n",
    "plt.xlabel('Coefficient Idx')\n",
    "plt.ylabel('Coefficient Value')\n",
    "plt.title('Logistic Regression Coefficients')\n",
    "plt.show()"
   ]
  },
  {
   "cell_type": "markdown",
   "metadata": {},
   "source": [
    "## TODO 2\n",
    "\n",
    "### Questions: How many coefficients do you get? Why? How many of them are equal to 0? (max 5 lines)\n",
    "We get 23 coefficients. Each quantitative feature need one coefficient while categorical features need a coefficient for each of their categories (number of different labels or values). Summing all of them we get 23 coefficients (see the code cell below, ncoef has been defined during data preprocessing coherently with my explanation). There isn't any null coefficients, however some of them are near to zero so null hypothesis testing could show that their confidence interval contain zero."
   ]
  },
  {
   "cell_type": "code",
   "execution_count": 211,
   "metadata": {
    "collapsed": false
   },
   "outputs": [
    {
     "name": "stdout",
     "output_type": "stream",
     "text": [
      "ncoef = [3, 2L, 1, 6L, 7L, 1, 3L]\n",
      "Sum of ncoef = 23\n"
     ]
    }
   ],
   "source": [
    "print \"ncoef =\", ncoef \n",
    "print \"Sum of ncoef =\", np.sum(ncoef)"
   ]
  },
  {
   "cell_type": "markdown",
   "metadata": {},
   "source": [
    "## TO DO 3\n",
    "### Predict labels on training and validation\n",
    "\n",
    "- Compute the predicted labels on training and validation data using reg.predict\n",
    " - Evaluate the accuracy using metrics.accuracy_score from scikit-learn (it returns the percentage of data correctly classified).\n",
    " - Evaluate the score used by logistic regression on training and validation data using metrics.accuracy_score()"
   ]
  },
  {
   "cell_type": "code",
   "execution_count": 212,
   "metadata": {
    "collapsed": false
   },
   "outputs": [
    {
     "name": "stdout",
     "output_type": "stream",
     "text": [
      "Training Accuracy: 88.0\n",
      "Test Accuracy: 73.1117824773\n"
     ]
    }
   ],
   "source": [
    "from sklearn import metrics\n",
    "\n",
    "#prediction on training data\n",
    "Yhat_tr_LR = reg.predict(Xtr)\n",
    "\n",
    "#prediction on test data\n",
    "Yhat_test_LR = reg.predict(Xtest)\n",
    "\n",
    "# compute accuracy as suggested above using metrics.accuracy_score from scikit-learn for training dataset\n",
    "print \"Training Accuracy:\", 100*metrics.accuracy_score(Yhat_tr_LR,Ytr)\n",
    "\n",
    "# compute accuracy as suggested above using metrics.accuracy_score from scikit-learn for test dataset\n",
    "print \"Test Accuracy:\", 100*metrics.accuracy_score(Yhat_test_LR,Ytest)"
   ]
  },
  {
   "cell_type": "markdown",
   "metadata": {},
   "source": [
    "## TODO 4\n",
    "### Use L2 regularized logistic regression with cross-validation\n",
    "\n",
    "We perform the L2 regularization for different values of the regularization parameter $C$, and use the Scikit-learn function to perform cross-validation (CV).\n",
    "\n",
    "In L2 regularized logistic regression, the following L2 regularization term is subtracted to the log-likelihood.\n",
    "\n",
    "$$\n",
    "    \\lambda \\sum_{j=1}^p \\beta_j^2\n",
    "$$\n",
    "\n",
    "where $\\lambda >0 $ is the complexity or regularization parameter. Note that the term above is *subtracted* since for logistic regression we want to maximize the log-likelihood.\n",
    "\n",
    "The parameter $C$ used by Scikit learn corresponds to the inverse of $\\lambda$, that is $C = \\frac{1}{\\lambda}$.\n",
    "\n",
    "Note: the CV in Scikit-learn is by default a *stratified* CV, that means that data is split into train-validation while maintaining the proportion of different classes in each fold.\n",
    "\n",
    "In the code below:\n",
    "- use LogisticRegressionCV() to select the best value of C with a 10-fold CV with L2 penalty;\n",
    "- use LogisticRegression() to learn the best model for the best C with L2 penalty on the entire training set"
   ]
  },
  {
   "cell_type": "code",
   "execution_count": 213,
   "metadata": {
    "collapsed": false
   },
   "outputs": [
    {
     "name": "stdout",
     "output_type": "stream",
     "text": [
      "[ 0.35938137]\n"
     ]
    },
    {
     "data": {
      "text/plain": [
       "LogisticRegression(C=0.35938136638046259, class_weight=None, dual=False,\n",
       "          fit_intercept=True, intercept_scaling=1, max_iter=100,\n",
       "          multi_class='ovr', n_jobs=1, penalty='l2', random_state=None,\n",
       "          solver='newton-cg', tol=0.0001, verbose=0, warm_start=False)"
      ]
     },
     "execution_count": 213,
     "metadata": {},
     "output_type": "execute_result"
    }
   ],
   "source": [
    "#define the model using LogisticRegressionCV passing an appropriate solver, cv value, and choice of penalty\n",
    "regL2 = linear_model.LogisticRegressionCV(cv=10, penalty='l2',solver='newton-cg') \n",
    "\n",
    "#fit the model on training data\n",
    "regL2.fit(Xtr,Ytr)\n",
    "\n",
    "#print the best C\n",
    "print regL2.C_\n",
    "\n",
    "#define the model using the best C and an appropriate solver\n",
    "regL2_final = linear_model.LogisticRegression(C=regL2.C_[0], penalty='l2',solver='newton-cg')\n",
    "\n",
    "#fit the model using the best C on the entire training set\n",
    "regL2_final.fit(Xtr,Ytr)"
   ]
  },
  {
   "cell_type": "markdown",
   "metadata": {},
   "source": [
    "### TODO 5: print and plot the coefficients from logistic regression and the regularized version."
   ]
  },
  {
   "cell_type": "code",
   "execution_count": 214,
   "metadata": {
    "collapsed": false
   },
   "outputs": [
    {
     "name": "stdout",
     "output_type": "stream",
     "text": [
      "[[ 1.25201779 -0.37342915 -0.77588061  1.22533153 -1.22533153 -0.03164777\n",
      "   0.16921452 -0.21494585 -1.28222577  1.70938264  0.14792172  0.0772415\n",
      "  -0.34982568  0.77546383 -0.70707244  0.84004774  0.06903809  0.0772415\n",
      "   0.03444614 -0.9963157   0.21137852  0.15733322 -0.27011602]]\n",
      "[[  5.83590610e-01  -1.51079781e-01  -3.81367605e-01   5.70316131e-01\n",
      "   -5.70316131e-01   8.94187493e-02  -3.89289861e-02   2.99025522e-02\n",
      "   -8.42801879e-02   1.62390906e-01   3.04743555e-07   1.59130456e-07\n",
      "   -1.78234196e-01   2.64076886e-01  -1.05926105e-01   1.78632255e-01\n",
      "    1.42230055e-07   1.59130456e-07   7.09648374e-08  -6.89185709e-02\n",
      "    1.67770344e-01   1.48981673e-01  -2.25666328e-01]]\n"
     ]
    },
    {
     "data": {
      "image/png": "[encoded data removed]",
      "text/plain": [
       "<matplotlib.figure.Figure at 0xe3cfa58>"
      ]
     },
     "metadata": {},
     "output_type": "display_data"
    }
   ],
   "source": [
    "#print the coefficients from logistic regression\n",
    "print reg.coef_\n",
    "\n",
    "#print the coefficients from L2 regularized logistic regression\n",
    "print regL2_final.coef_\n",
    "\n",
    "\n",
    "# Plot the coefficients\n",
    "regL2_final_coef = regL2_final.coef_.reshape(regL2_final.coef_.shape[1],)\n",
    "ind = np.arange(1,len(reg_coef)+1)  # the x locations for the groups\n",
    "width = 0.35       # the width of the bars\n",
    "fig, ax = plt.subplots()\n",
    "\n",
    "rects1 = ax.bar(ind, reg_coef, width, color='r')\n",
    "rects2 = ax.bar(ind + width, regL2_final_coef, width, color='y')\n",
    "ax.legend((rects1[0], rects2[0]), ('Log Regr', 'Log Regr + L2 Regul'))\n",
    "plt.xlabel('Coefficient Idx')\n",
    "plt.ylabel('Coefficient Value')\n",
    "plt.title('Logistic Regression Coefficients: Standard and Regularized Version')\n",
    "plt.show()"
   ]
  },
  {
   "cell_type": "markdown",
   "metadata": {},
   "source": [
    "### TODO 6: how do the coefficients from L2 regularization compare to the ones from logistic regression? (max 5 lines)\n",
    "In L2 regularisation the coefficients generally are smaller and seem vaguely proportional to some standard ones (1, 2, 3, 4, 5, 13, 14, 15, 16, 21, 22, 23) but quite differnets for others (9, 10, 20). We can also notice that 5 coefficients are almost zero."
   ]
  },
  {
   "cell_type": "markdown",
   "metadata": {},
   "source": [
    "### TODO 7: obtain classification accuracy on training and test data for the L2 regularized model"
   ]
  },
  {
   "cell_type": "code",
   "execution_count": 215,
   "metadata": {
    "collapsed": false
   },
   "outputs": [
    {
     "name": "stdout",
     "output_type": "stream",
     "text": [
      "Training Accuracy: 82.0\n",
      "Test Accuracy: 76.8882175227\n"
     ]
    }
   ],
   "source": [
    "#now get training and test error and print training and test accuracy\n",
    "\n",
    "# predictions on training data \n",
    "Yhat_tr_LR_L2 = regL2_final.predict(Xtr)\n",
    "\n",
    "# predictions on test data \n",
    "Yhat_test_LR_L2 = regL2_final.predict(Xtest)\n",
    "\n",
    "# compute accuracy as suggested above using metrics.accuracy_score from scikit-learn on training data\n",
    "print \"Training Accuracy:\", 100*metrics.accuracy_score(Yhat_tr_LR_L2,Ytr)\n",
    "\n",
    "# compute accuracy as suggested above using metrics.accuracy_score from scikit-learn on test data\n",
    "print \"Test Accuracy:\",100*metrics.accuracy_score(Yhat_test_LR_L2,Ytest)"
   ]
  },
  {
   "cell_type": "markdown",
   "metadata": {},
   "source": [
    "### TODO 8: how does accuracy compare to logistic regression? Comment (max 5 lines).\n",
    "Test Accuracy increases (from 73% to 77%) this can be explained by the same motivations seen in the first part of this notebook (regularization decreases overfitting/variance part of generalisation error). But let me also underline the fact that Cross Validation, that we always use with Regularization, offers an estimate of validation error over wich we optimize C, leading to a better model for unseen inputs. On the other hand Training Accuracy decreases (from 88% to 82%) as expected. "
   ]
  },
  {
   "cell_type": "markdown",
   "metadata": {},
   "source": [
    "### TODO 9: Use L1 regularized logistic regression with cross-validation\n",
    "\n",
    "We perform the L1 regularization for different values of the regularization parameter $C$, and use the Scikit-learn function to perform cross-validation (CV).\n",
    "\n",
    "In L1 regularized logistic regression, the following L1 regularization term is added to the loss:\n",
    "\n",
    "$$\n",
    "    \\lambda \\sum_{j=1}^p |\\beta_j|\n",
    "$$\n",
    "\n",
    "where $\\lambda >0 $ is the complexity or regularization parameter. Note that the term above is *subtracted* since for logistic regression we want to maximize the log-likelihood.\n",
    "\n",
    "The parameter $C$ used by Scikit learn corresponds to the inverse of $\\lambda$, that is $C = \\frac{1}{\\lambda}$.\n",
    "\n",
    "Note: the CV in Scikit-learn is by default a *stratified* CV, that means that data is split into train-validation while maintaining the proportion of different classes in each fold.\n",
    "\n",
    "In the code below:\n",
    "- use LogisticRegressionCV() to select the best value of C with a 10-fold CV with L1 penalty;\n",
    "- use LogisticRegression() to learn the best model for the best C with L1 penalty on the entire training set\n",
    "\n",
    "Note: not all the solvers in LogisticRegressionCV() and LogisticRegression() can be used for L1 regularization! See the documentation and choose an appropriate solver."
   ]
  },
  {
   "cell_type": "code",
   "execution_count": 216,
   "metadata": {
    "collapsed": false
   },
   "outputs": [
    {
     "name": "stdout",
     "output_type": "stream",
     "text": [
      "[ 0.35938137]\n"
     ]
    },
    {
     "data": {
      "text/plain": [
       "LogisticRegression(C=0.35938136638046259, class_weight=None, dual=False,\n",
       "          fit_intercept=True, intercept_scaling=1, max_iter=100,\n",
       "          multi_class='ovr', n_jobs=1, penalty='l1', random_state=None,\n",
       "          solver='liblinear', tol=0.0001, verbose=0, warm_start=False)"
      ]
     },
     "execution_count": 216,
     "metadata": {},
     "output_type": "execute_result"
    }
   ],
   "source": [
    "#define the model using LogisticRegressionCV passing an appropriate solver, cv value, and choice of penalty\n",
    "regL1 = linear_model.LogisticRegressionCV(cv=10, penalty='l1',solver='liblinear')\n",
    "\n",
    "#fit the model on training data\n",
    "regL1.fit(Xtr,Ytr)\n",
    "\n",
    "#print the best C\n",
    "print regL1.C_\n",
    "\n",
    "\n",
    "#define the model using the best C and an appropriate solver\n",
    "regL1_final = linear_model.LogisticRegression(C=regL1.C_[0], penalty='l1',solver='liblinear')\n",
    "\n",
    "\n",
    "#fit the model using the best C on the entire training set\n",
    "regL1_final.fit(Xtr,Ytr)"
   ]
  },
  {
   "cell_type": "markdown",
   "metadata": {},
   "source": [
    "### TODO 10: plot the coefficients from logistic regression and the regularized version."
   ]
  },
  {
   "cell_type": "code",
   "execution_count": 217,
   "metadata": {
    "collapsed": false
   },
   "outputs": [
    {
     "name": "stdout",
     "output_type": "stream",
     "text": [
      "[[ 1.25201779 -0.37342915 -0.77588061  1.22533153 -1.22533153 -0.03164777\n",
      "   0.16921452 -0.21494585 -1.28222577  1.70938264  0.14792172  0.0772415\n",
      "  -0.34982568  0.77546383 -0.70707244  0.84004774  0.06903809  0.0772415\n",
      "   0.03444614 -0.9963157   0.21137852  0.15733322 -0.27011602]]\n",
      "[[  5.83590610e-01  -1.51079781e-01  -3.81367605e-01   5.70316131e-01\n",
      "   -5.70316131e-01   8.94187493e-02  -3.89289861e-02   2.99025522e-02\n",
      "   -8.42801879e-02   1.62390906e-01   3.04743555e-07   1.59130456e-07\n",
      "   -1.78234196e-01   2.64076886e-01  -1.05926105e-01   1.78632255e-01\n",
      "    1.42230055e-07   1.59130456e-07   7.09648374e-08  -6.89185709e-02\n",
      "    1.67770344e-01   1.48981673e-01  -2.25666328e-01]]\n",
      "[[ 0.55034162  0.          0.          0.64567394 -0.48381187  0.          0.\n",
      "   0.          0.          0.          0.          0.          0.\n",
      "   0.0092227   0.          0.00655243  0.          0.          0.          0.\n",
      "   0.          0.         -0.16880602]]\n"
     ]
    },
    {
     "data": {
      "image/png": "[encoded data removed]",
      "text/plain": [
       "<matplotlib.figure.Figure at 0xe531d68>"
      ]
     },
     "metadata": {},
     "output_type": "display_data"
    }
   ],
   "source": [
    "#print the coefficients from logistic regression\n",
    "print reg.coef_\n",
    "\n",
    "#print the coefficients from L2 regularized logistic regression\n",
    "print regL2_final.coef_\n",
    "\n",
    "#print the coefficients from L1 regularized logistic regression\n",
    "print regL1_final.coef_\n",
    "\n",
    "# Plot the coefficients\n",
    "regL1_final_coef = regL1_final.coef_.reshape(regL1_final.coef_.shape[1],)\n",
    "\n",
    "ind = np.arange(1,len(reg_coef)+1)  # the x locations for the groups\n",
    "width = 0.25       # the width of the bars\n",
    "fig, ax = plt.subplots()\n",
    "rects1 = ax.bar(ind, reg_coef, width, color='r')\n",
    "rects2 = ax.bar(ind + width, regL2_final_coef, width, color='y')\n",
    "rects3 = ax.bar(ind + 2*width, regL1_final_coef, width, color='g')\n",
    "ax.legend((rects1[0], rects2[0], rects3[0]), ('Log Regr', 'Log Regr + L2 Regul', 'Log Regr + L1 Regul'))\n",
    "plt.xlabel('Coefficient Idx')\n",
    "plt.ylabel('Coefficient Value')\n",
    "plt.title('Logistic Regression Coefficients: Standard, Regularized L2 and L1 Version')\n",
    "plt.show()"
   ]
  },
  {
   "cell_type": "markdown",
   "metadata": {},
   "source": [
    "### TODO 11: how do the coefficients from L1 regularization compare to the ones from logistic regression and to the ones from L2 regularization? (max 5 lines)\n",
    "The coefficients from L1 regularization are characterized by the fact that only 6 of them are nonzero while in L2 regularization even if the norms can be really small the coefficients are still all different from zero. This result being common for both linear and logistic regression may let us think that this a general behaviour of L1 and L2 regularizations. Looking more closely to the nonzero coefficients of L1 regularization we see that they keep the sign of no-regularization ones, and that their norms are similar to thoose of L2 regularization."
   ]
  },
  {
   "cell_type": "markdown",
   "metadata": {},
   "source": [
    "### TODO 12: obtain classification accuracy on training and test data for the best L1 regularized model"
   ]
  },
  {
   "cell_type": "code",
   "execution_count": 225,
   "metadata": {
    "collapsed": false
   },
   "outputs": [
    {
     "name": "stdout",
     "output_type": "stream",
     "text": [
      "Training Accuracy: 81.0\n",
      "Test Accuracy: 77.4509803922\n",
      "[ 0.41176471]\n"
     ]
    }
   ],
   "source": [
    "#now get training and test error and print training and test accuracy\n",
    "\n",
    "# predictions on training data \n",
    "Yhat_tr_LR_L1 = regL1_final.predict(Xtr)\n",
    "\n",
    "# predictions on test data \n",
    "Yhat_test_LR_L1 = regL1_final.predict(Xtest)\n",
    "\n",
    "# compute accuracy as suggested above using metrics.accuracy_score from scikit-learn on training data\n",
    "print \"Training Accuracy:\", 100* metrics.accuracy_score(Yhat_tr_LR_L1,Ytr)\n",
    "\n",
    "# compute accuracy as suggested above using metrics.accuracy_score from scikit-learn on test data\n",
    "print \"Test Accuracy:\",100* metrics.accuracy_score(Yhat_test_LR_L1,Ytest)\n",
    "print Ytest.sum()/Ytest.shape"
   ]
  },
  {
   "cell_type": "markdown",
   "metadata": {},
   "source": [
    "### TODO 13: how does accuracy compare to logistic regression and to L2 regularization? (max 5 lines)\n",
    "Astonishingly we obtain exactly the same results as in L2 regularization even if the coefficients are different. We can suppose that the errors have also been done in the same predictions : even if our linear classification model is very good some outcomes are not predictable with this training data and linear model set (the set of points may not be linearly separable)."
   ]
  },
  {
   "cell_type": "markdown",
   "metadata": {},
   "source": [
    "### TODO 14: use different data size\n",
    "\n",
    "Perform the same estimation procedures using different more points on the training data, that is fix Ntr = 100. You can simply copy and paste the code above into the cell below."
   ]
  },
  {
   "cell_type": "code",
   "execution_count": 219,
   "metadata": {
    "collapsed": false
   },
   "outputs": [
    {
     "name": "stderr",
     "output_type": "stream",
     "text": [
      "C:\\Program Files\\Anaconda2\\lib\\site-packages\\sklearn\\utils\\validation.py:420: DataConversionWarning: Data with input dtype object was converted to float64 by StandardScaler.\n",
      "  warnings.warn(msg, DataConversionWarning)\n",
      "C:\\Program Files\\Anaconda2\\lib\\site-packages\\sklearn\\utils\\validation.py:420: DataConversionWarning: Data with input dtype object was converted to float64 by StandardScaler.\n",
      "  warnings.warn(msg, DataConversionWarning)\n",
      "C:\\Program Files\\Anaconda2\\lib\\site-packages\\sklearn\\utils\\validation.py:420: DataConversionWarning: Data with input dtype object was converted to float64 by StandardScaler.\n",
      "  warnings.warn(msg, DataConversionWarning)\n"
     ]
    },
    {
     "name": "stdout",
     "output_type": "stream",
     "text": [
      "Log Regr Test Accuracy: 76.3071895425\n",
      "Log Regr + L2 Regul Test Accuracy: 79.0849673203\n",
      "Log Regr + L1 Regul Test Accuracy: 77.4509803922\n",
      "[[ 0.38888618  0.27885841 -0.57968209  0.96220821 -0.96220821 -0.03848899\n",
      "   0.45643564  0.14188432 -0.15980169  0.31214787 -1.54400537 -0.56058734\n",
      "  -0.01826178  0.44301106 -0.56293622  0.84255929  0.05150577 -0.73902976\n",
      "   0.0256985  -0.0923838   0.19629496  0.05313777 -0.20735408]]\n",
      "[[  1.66829907e-01   1.05211208e-01  -2.36313458e-01   3.69918376e-01\n",
      "   -3.69918376e-01  -1.78423498e-02  -2.06209683e-02   7.03475472e-02\n",
      "    1.04454542e-03   5.84320067e-03  -1.14801893e-01  -4.65500683e-02\n",
      "   -6.29108272e-02   1.35926818e-01  -8.07157968e-02   8.88613599e-02\n",
      "   -6.49263392e-08  -5.81932754e-02  -3.23946095e-08   6.43643593e-02\n",
      "    1.35836755e-01   4.57786101e-02  -1.47702872e-01]]\n",
      "[[ 0.          0.          0.          0.00262858 -0.29392883  0.          0.\n",
      "   0.          0.          0.          0.          0.          0.          0.\n",
      "   0.          0.          0.          0.          0.          0.          0.\n",
      "   0.          0.        ]]\n"
     ]
    },
    {
     "data": {
      "image/png": "[encoded data removed]",
      "text/plain": [
       "<matplotlib.figure.Figure at 0xdcf75c0>"
      ]
     },
     "metadata": {},
     "output_type": "display_data"
    }
   ],
   "source": [
    "#put in this cell the code to do the same analysis as before but with Ntr=100\n",
    "\n",
    "# Split data into training and validation data\n",
    "\n",
    "N = np.shape(X)[0]\n",
    "\n",
    "#put here your ``numero di matricola''\n",
    "Numero_di_Matricola = 1067494 \n",
    "\n",
    "Ntrain = 100  # use 50 samples for training + validation...\n",
    "Ntest = N-Ntrain # and the rest for testing\n",
    "\n",
    "Xtr, Xtest, Ytr, Ytest = train_test_split(X, Y, test_size=Ntest/N, random_state = Numero_di_Matricola)\n",
    "\n",
    "Ntr = Xtr.shape[0]\n",
    "Ntest = Xtest.shape[0]\n",
    "\n",
    "# Standardize the Features Matrix\n",
    "\n",
    "scaler = preprocessing.StandardScaler().fit(X)\n",
    "Xtr = scaler.transform(Xtr)\n",
    "Xtest = scaler.transform(Xtest)  # use the same transformation on test data\n",
    "\n",
    "# define a logistic regression model with very high C parameter -> low impact from regularization\n",
    "reg = linear_model.LogisticRegression(C=100000000, solver='newton-cg')\n",
    "\n",
    "#fit the model on training data\n",
    "reg.fit(Xtr, Ytr)\n",
    "\n",
    "#prediction on training data\n",
    "Yhat_tr_LR = reg.predict(Xtr)\n",
    "\n",
    "#prediction on test data\n",
    "Yhat_test_LR = reg.predict(Xtest)\n",
    "\n",
    "#define the model using LogisticRegressionCV passing an appropriate solver, cv value, and choice of penalty\n",
    "regL2 = linear_model.LogisticRegressionCV(cv=10, penalty='l2',solver='newton-cg') \n",
    "\n",
    "#fit the model on training data\n",
    "regL2.fit(Xtr,Ytr)\n",
    "\n",
    "#define the model using the best C and an appropriate solver\n",
    "regL2_final = linear_model.LogisticRegression(C=regL2.C_[0], penalty='l2',solver='newton-cg')\n",
    "\n",
    "#fit the model using the best C on the entire training set\n",
    "regL2_final.fit(Xtr,Ytr)\n",
    "\n",
    "# predictions on training data \n",
    "Yhat_tr_LR_L2 = regL2_final.predict(Xtr)\n",
    "\n",
    "# predictions on test data \n",
    "Yhat_test_LR_L2 = regL2_final.predict(Xtest)\n",
    "\n",
    "#define the model using LogisticRegressionCV passing an appropriate solver, cv value, and choice of penalty\n",
    "regL1 = linear_model.LogisticRegressionCV(cv=10, penalty='l1',solver='liblinear')\n",
    "\n",
    "#fit the model on training data\n",
    "regL1.fit(Xtr,Ytr)\n",
    "\n",
    "#define the model using the best C and an appropriate solver\n",
    "regL1_final = linear_model.LogisticRegression(C=regL1.C_[0], penalty='l1',solver='liblinear')\n",
    "\n",
    "\n",
    "#fit the model using the best C on the entire training set\n",
    "regL1_final.fit(Xtr,Ytr)\n",
    "\n",
    "# predictions on training data \n",
    "Yhat_tr_LR_L1 = regL1_final.predict(Xtr)\n",
    "\n",
    "# predictions on test data \n",
    "Yhat_test_LR_L1 = regL1_final.predict(Xtest)\n",
    "\n",
    "# compute accuracy as suggested above using metrics.accuracy_score from scikit-learn for test dataset\n",
    "print \"Log Regr Test Accuracy:\", 100*metrics.accuracy_score(Yhat_test_LR,Ytest)\n",
    "\n",
    "# compute accuracy as suggested above using metrics.accuracy_score from scikit-learn on test data\n",
    "print \"Log Regr + L2 Regul Test Accuracy:\",100*metrics.accuracy_score(Yhat_test_LR_L2,Ytest)\n",
    "\n",
    "# compute accuracy as suggested above using metrics.accuracy_score from scikit-learn on test data\n",
    "print \"Log Regr + L1 Regul Test Accuracy:\",100* metrics.accuracy_score(Yhat_test_LR_L1,Ytest)\n",
    "\n",
    "#print the coefficients from logistic regression\n",
    "print reg.coef_\n",
    "\n",
    "#print the coefficients from L2 regularized logistic regression\n",
    "print regL2_final.coef_\n",
    "\n",
    "#print the coefficients from L1 regularized logistic regression\n",
    "print regL1_final.coef_\n",
    "\n",
    "# Plot the coefficients\n",
    "regL1_final_coef = regL1_final.coef_.reshape(regL1_final.coef_.shape[1],)\n",
    "\n",
    "ind = np.arange(1,len(reg_coef)+1)  # the x locations for the groups\n",
    "width = 0.25       # the width of the bars\n",
    "fig, ax = plt.subplots()\n",
    "rects1 = ax.bar(ind, reg_coef, width, color='r')\n",
    "rects2 = ax.bar(ind + width, regL2_final_coef, width, color='y')\n",
    "rects3 = ax.bar(ind + 2*width, regL1_final_coef, width, color='g')\n",
    "ax.legend((rects1[0], rects2[0], rects3[0]), ('Log Regr', 'Log Regr + L2 Regul', 'Log Regr + L1 Regul'))\n",
    "plt.xlabel('Coefficient Idx')\n",
    "plt.ylabel('Coefficient Value')\n",
    "plt.title('Logistic Regression Coefficients: Standard, Regularized L2 and L1 Version')\n",
    "plt.show()\n",
    "\n"
   ]
  },
  {
   "cell_type": "markdown",
   "metadata": {},
   "source": [
    "### TODO 15: how do the results change with Ntr=100? (max 10 lines)\n",
    "The first thing we note is that . Looking at the coefficients we see that only one L1 regularized coefficent is different from zero, while for no regularization and L2 regularization there has been only some slight adjustements of the coefficients. With respect to Ntr=50, the accuracy with Ntr=100 have slightly increased for each method of regularization. With no regularization from 73,1 to 76,3 ; with L2 regularization from 76,9 to 79,1 and with L1 regularization from 76,9 to 77,5. So L2 regularization scores better than L1 regularization now, but it is interesting that L2 regularization enable us to done really good predictions on survival with only 1 coefficient, wich is related to being a female."
   ]
  }
 ],
 "metadata": {
  "anaconda-cloud": {},
  "kernelspec": {
   "display_name": "Python [conda root]",
   "language": "python",
   "name": "conda-root-py"
  },
  "language_info": {
   "codemirror_mode": {
    "name": "ipython",
    "version": 2
   },
   "file_extension": ".py",
   "mimetype": "text/x-python",
   "name": "python",
   "nbconvert_exporter": "python",
   "pygments_lexer": "ipython2",
   "version": "2.7.12"
  }
 },
 "nbformat": 4,
 "nbformat_minor": 1
}
